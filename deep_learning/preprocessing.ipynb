{
 "cells": [
  {
   "cell_type": "markdown",
   "source": [
    "# Fall Detection using SisFall Dataset\n",
    "Daniela Dias, nMec 98039"
   ],
   "metadata": {
    "collapsed": false
   },
   "id": "fc0d4d192d886215"
  },
  {
   "cell_type": "code",
   "outputs": [],
   "source": [
    "import pandas as pd\n",
    "import numpy as np\n",
    "from sklearn.model_selection import train_test_split"
   ],
   "metadata": {
    "collapsed": false,
    "ExecuteTime": {
     "end_time": "2025-05-02T18:47:06.753876Z",
     "start_time": "2025-05-02T18:47:06.734006Z"
    }
   },
   "id": "671e33acf94d3048",
   "execution_count": 35
  },
  {
   "cell_type": "markdown",
   "source": [
    "## Avoiding Subject Bias in Train-Test Split\n",
    "\n",
    "When working with the SisFall dataset (or any dataset where multiple recordings come from the same individuals), it is essential to avoid data leakage caused by random sample splitting. \n",
    "\n",
    "If we randomly split the dataset into training and testing sets, we risk placing samples from the same subject in both sets. This introduces what is known as \"subject bias\" — the model can inadvertently learn personal characteristics or movement patterns of specific individuals rather than learning to generalize fall detection across new, unseen people. This would artificially inflate evaluation metrics (such as accuracy and F1-score), because the model is partially memorizing rather than generalizing.\n",
    "\n",
    "To address this, we use a subject-wise splitting strategy:  \n",
    "- We first extract the list of unique subjects.  \n",
    "- Then we split these subjects into train and test groups.  \n",
    "- Finally, we assign samples based on the subject to which they belong.\n",
    "\n",
    "This ensures that the model is evaluated on entirely unseen individuals, simulating real-world scenarios where fall detection must work for new users. It leads to more honest and generalizable performance metrics."
   ],
   "metadata": {
    "collapsed": false
   },
   "id": "2c5745d4336011ed"
  },
  {
   "cell_type": "markdown",
   "source": [
    "## Deep Learning Preprocessing\n",
    "\n",
    "This pipeline prepares raw time-series sensor data for deep learning models such as CNNs or LSTMs.\n",
    "\n",
    "1. Raw sensor data is segmented into fixed-length overlapping windows (e.g., 2 seconds = 400 samples at 200 Hz).\n",
    "    - Each window is treated as a single sample.\n",
    "   - The overlap can be adjusted (e.g., 25% overlap).\n",
    "2. Each window is converted into a 3D tensor: (number of samples, window length, number of channels).\n",
    "    - For example, with 400-sample windows and 9 channels (3 sensors × 3 axes), the shape should be (N, 400, 9).\n",
    "3. Labels are assigned to each window based on the most frequent class label within the window.\n",
    "4. Input windows are normalized using z-score standardization based on the training set.\n",
    "5. Subject-wise splitting is used to ensure no overlap of subjects between training and testing sets."
   ],
   "metadata": {
    "collapsed": false
   },
   "id": "1d11001580ab7f12"
  },
  {
   "cell_type": "code",
   "outputs": [],
   "source": [
    "# Load the dataset from CSV file\n",
    "sisfall_data = pd.read_csv('../reduced_sisfall_dataset.csv')"
   ],
   "metadata": {
    "collapsed": false,
    "ExecuteTime": {
     "end_time": "2025-05-02T18:47:14.074788Z",
     "start_time": "2025-05-02T18:47:06.754883Z"
    }
   },
   "id": "948d6a316abc4edb",
   "execution_count": 36
  },
  {
   "cell_type": "code",
   "outputs": [
    {
     "data": {
      "text/plain": "   accel_adxl345_x  accel_adxl345_y  accel_adxl345_z  gyro_itg3200_x  \\\n0         0.066406        -0.699219        -0.386719       -1.098633   \n1         0.058594        -0.679688        -0.351562       -3.234863   \n2         0.003906        -0.687500        -0.316406       -5.126953   \n3        -0.039062        -0.703125        -0.300781       -6.347656   \n4        -0.082031        -0.746094        -0.246094       -7.812500   \n\n   gyro_itg3200_y  gyro_itg3200_z  accel_mma8451q_x  accel_mma8451q_y  \\\n0      -30.761719      -21.484375          0.074219         -0.680664   \n1      -34.667969      -18.676758          0.046875         -0.659180   \n2      -37.414551      -16.540527         -0.001953         -0.652344   \n3      -39.489746      -13.854980         -0.033203         -0.680664   \n4      -41.198730      -11.657715         -0.072266         -0.723633   \n\n   accel_mma8451q_z label          filename subject  \n0         -0.272461   adl  D01_SA01_R01.txt    SA01  \n1         -0.248047   adl  D01_SA01_R01.txt    SA01  \n2         -0.215820   adl  D01_SA01_R01.txt    SA01  \n3         -0.170898   adl  D01_SA01_R01.txt    SA01  \n4         -0.129883   adl  D01_SA01_R01.txt    SA01  ",
      "text/html": "<div>\n<style scoped>\n    .dataframe tbody tr th:only-of-type {\n        vertical-align: middle;\n    }\n\n    .dataframe tbody tr th {\n        vertical-align: top;\n    }\n\n    .dataframe thead th {\n        text-align: right;\n    }\n</style>\n<table border=\"1\" class=\"dataframe\">\n  <thead>\n    <tr style=\"text-align: right;\">\n      <th></th>\n      <th>accel_adxl345_x</th>\n      <th>accel_adxl345_y</th>\n      <th>accel_adxl345_z</th>\n      <th>gyro_itg3200_x</th>\n      <th>gyro_itg3200_y</th>\n      <th>gyro_itg3200_z</th>\n      <th>accel_mma8451q_x</th>\n      <th>accel_mma8451q_y</th>\n      <th>accel_mma8451q_z</th>\n      <th>label</th>\n      <th>filename</th>\n      <th>subject</th>\n    </tr>\n  </thead>\n  <tbody>\n    <tr>\n      <th>0</th>\n      <td>0.066406</td>\n      <td>-0.699219</td>\n      <td>-0.386719</td>\n      <td>-1.098633</td>\n      <td>-30.761719</td>\n      <td>-21.484375</td>\n      <td>0.074219</td>\n      <td>-0.680664</td>\n      <td>-0.272461</td>\n      <td>adl</td>\n      <td>D01_SA01_R01.txt</td>\n      <td>SA01</td>\n    </tr>\n    <tr>\n      <th>1</th>\n      <td>0.058594</td>\n      <td>-0.679688</td>\n      <td>-0.351562</td>\n      <td>-3.234863</td>\n      <td>-34.667969</td>\n      <td>-18.676758</td>\n      <td>0.046875</td>\n      <td>-0.659180</td>\n      <td>-0.248047</td>\n      <td>adl</td>\n      <td>D01_SA01_R01.txt</td>\n      <td>SA01</td>\n    </tr>\n    <tr>\n      <th>2</th>\n      <td>0.003906</td>\n      <td>-0.687500</td>\n      <td>-0.316406</td>\n      <td>-5.126953</td>\n      <td>-37.414551</td>\n      <td>-16.540527</td>\n      <td>-0.001953</td>\n      <td>-0.652344</td>\n      <td>-0.215820</td>\n      <td>adl</td>\n      <td>D01_SA01_R01.txt</td>\n      <td>SA01</td>\n    </tr>\n    <tr>\n      <th>3</th>\n      <td>-0.039062</td>\n      <td>-0.703125</td>\n      <td>-0.300781</td>\n      <td>-6.347656</td>\n      <td>-39.489746</td>\n      <td>-13.854980</td>\n      <td>-0.033203</td>\n      <td>-0.680664</td>\n      <td>-0.170898</td>\n      <td>adl</td>\n      <td>D01_SA01_R01.txt</td>\n      <td>SA01</td>\n    </tr>\n    <tr>\n      <th>4</th>\n      <td>-0.082031</td>\n      <td>-0.746094</td>\n      <td>-0.246094</td>\n      <td>-7.812500</td>\n      <td>-41.198730</td>\n      <td>-11.657715</td>\n      <td>-0.072266</td>\n      <td>-0.723633</td>\n      <td>-0.129883</td>\n      <td>adl</td>\n      <td>D01_SA01_R01.txt</td>\n      <td>SA01</td>\n    </tr>\n  </tbody>\n</table>\n</div>"
     },
     "execution_count": 37,
     "metadata": {},
     "output_type": "execute_result"
    }
   ],
   "source": [
    "# Check the first few rows of the dataset\n",
    "sisfall_data.head()"
   ],
   "metadata": {
    "collapsed": false,
    "ExecuteTime": {
     "end_time": "2025-05-02T18:47:14.088361Z",
     "start_time": "2025-05-02T18:47:14.074788Z"
    }
   },
   "id": "a9134821842e7ebc",
   "execution_count": 37
  },
  {
   "cell_type": "code",
   "outputs": [],
   "source": [
    "def segment_data(df, window_size, overlap, variance_threshold=0.3):\n",
    "    # Calculate the step size based on the window size and overlap\n",
    "    step = int(window_size * (1 - overlap))\n",
    "\n",
    "    # Obtain the sensor columns\n",
    "    sensor_cols = df.columns[:-3]  # Exclude label, filename, subject\n",
    "\n",
    "    features = []\n",
    "    labels = []\n",
    "\n",
    "    for filename, group in df.groupby('filename'):\n",
    "        group = group.reset_index(drop=True)\n",
    "        for start in range(0, len(group) - window_size + 1, step):\n",
    "            window = group.iloc[start:start + window_size]\n",
    "\n",
    "            # Compute average standard deviation across all channels\n",
    "            mean_std = np.mean([window[col].std() for col in sensor_cols])\n",
    "            if mean_std < variance_threshold:\n",
    "                continue  # Skip this window\n",
    "\n",
    "            # Extract features and labels\n",
    "            feature = window[sensor_cols].values\n",
    "            label = window['label'].mode()[0]  # Most frequent label in the window\n",
    "\n",
    "            features.append(feature)\n",
    "            labels.append(label)\n",
    "\n",
    "    return np.array(features), np.array(labels)"
   ],
   "metadata": {
    "collapsed": false,
    "ExecuteTime": {
     "end_time": "2025-05-02T18:47:14.097553Z",
     "start_time": "2025-05-02T18:47:14.090369Z"
    }
   },
   "id": "4aa675ece726bae0",
   "execution_count": 38
  },
  {
   "cell_type": "code",
   "outputs": [],
   "source": [
    "def preprocess_for_deep_learning(df, window_size=400, overlap=0.25):\n",
    "    # Extract unique subjects\n",
    "    subjects = df['subject'].unique()\n",
    "\n",
    "    # Subject-wise split\n",
    "    train_subjects, test_subjects = train_test_split(subjects, test_size=0.2, random_state=42)\n",
    "\n",
    "    # Assign samples based on subject\n",
    "    train_data = df[df['subject'].isin(train_subjects)]\n",
    "    test_data = df[df['subject'].isin(test_subjects)]\n",
    "\n",
    "    # Segment data into windows\n",
    "    X_train, y_train = segment_data(train_data, window_size, overlap)\n",
    "    X_test, y_test = segment_data(test_data, window_size, overlap)\n",
    "\n",
    "    # Normalize using training statistics\n",
    "    mean = X_train.mean(axis=(0, 1), keepdims=True)\n",
    "    std = X_train.std(axis=(0, 1), keepdims=True)\n",
    "    X_train = (X_train - mean) / std\n",
    "    X_test = (X_test - mean) / std\n",
    "\n",
    "    # Convert labels to numeric\n",
    "    y_train = pd.Series(y_train).map({'adl': 0, 'fall': 1})\n",
    "    y_test = pd.Series(y_test).map({'adl': 0, 'fall': 1})\n",
    "\n",
    "    # Convert to dataframes\n",
    "    X_train = pd.DataFrame(X_train.reshape(X_train.shape[0], -1))\n",
    "    X_test = pd.DataFrame(X_test.reshape(X_test.shape[0], -1))\n",
    "    y_train = pd.DataFrame(y_train)\n",
    "    y_test = pd.DataFrame(y_test)\n",
    "\n",
    "    return X_train, X_test, y_train, y_test"
   ],
   "metadata": {
    "collapsed": false,
    "ExecuteTime": {
     "end_time": "2025-05-02T18:47:14.107336Z",
     "start_time": "2025-05-02T18:47:14.098561Z"
    }
   },
   "id": "4809cd21ca4f3c2e",
   "execution_count": 39
  },
  {
   "cell_type": "code",
   "outputs": [],
   "source": [
    "# Preprocess the data\n",
    "X_train, X_test, y_train, y_test = preprocess_for_deep_learning(sisfall_data)"
   ],
   "metadata": {
    "collapsed": false,
    "ExecuteTime": {
     "end_time": "2025-05-02T18:47:45.283901Z",
     "start_time": "2025-05-02T18:47:14.109349Z"
    }
   },
   "id": "a9748eba4d99f46a",
   "execution_count": 40
  },
  {
   "cell_type": "code",
   "outputs": [
    {
     "data": {
      "text/plain": "((19614, 3600), (4692, 3600), (19614, 1), (4692, 1))"
     },
     "execution_count": 41,
     "metadata": {},
     "output_type": "execute_result"
    }
   ],
   "source": [
    "# Check the shape of the training and testing sets\n",
    "X_train.shape, X_test.shape, y_train.shape, y_test.shape"
   ],
   "metadata": {
    "collapsed": false,
    "ExecuteTime": {
     "end_time": "2025-05-02T18:47:45.291926Z",
     "start_time": "2025-05-02T18:47:45.284908Z"
    }
   },
   "id": "a32be34713284722",
   "execution_count": 41
  },
  {
   "cell_type": "code",
   "outputs": [],
   "source": [
    "# Save the preprocessed dataset to CSV files\n",
    "X_train.to_csv('X_train.csv', index=False)\n",
    "X_test.to_csv('X_test.csv', index=False)\n",
    "y_train.to_csv('y_train.csv', index=False)\n",
    "y_test.to_csv('y_test.csv', index=False)"
   ],
   "metadata": {
    "collapsed": false,
    "ExecuteTime": {
     "end_time": "2025-05-02T18:55:37.121993Z",
     "start_time": "2025-05-02T18:51:29.210648Z"
    }
   },
   "id": "2bdf2f170ca05ab9",
   "execution_count": 44
  }
 ],
 "metadata": {
  "kernelspec": {
   "display_name": "Python 3",
   "language": "python",
   "name": "python3"
  },
  "language_info": {
   "codemirror_mode": {
    "name": "ipython",
    "version": 2
   },
   "file_extension": ".py",
   "mimetype": "text/x-python",
   "name": "python",
   "nbconvert_exporter": "python",
   "pygments_lexer": "ipython2",
   "version": "2.7.6"
  }
 },
 "nbformat": 4,
 "nbformat_minor": 5
}
