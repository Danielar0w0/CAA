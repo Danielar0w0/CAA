{
 "cells": [
  {
   "cell_type": "markdown",
   "source": [
    "# Fall Detection using SisFall Dataset\n",
    "Daniela Dias, nMec 98039"
   ],
   "metadata": {
    "collapsed": false
   },
   "id": "ef45f4d362d3291"
  },
  {
   "cell_type": "code",
   "outputs": [],
   "source": [
    "import numpy as np\n",
    "import pandas as pd\n",
    "from tensorflow import keras\n",
    "from tensorflow.keras import layers\n",
    "from sklearn.metrics import f1_score, classification_report, roc_auc_score, confusion_matrix, ConfusionMatrixDisplay, \\\n",
    "    roc_curve\n",
    "import matplotlib.pyplot as plt"
   ],
   "metadata": {
    "collapsed": true
   },
   "id": "initial_id",
   "execution_count": 0
  },
  {
   "cell_type": "code",
   "outputs": [],
   "source": [
    "# Load the preprocessed dataset from CSV files\n",
    "X_train = pd.read_csv('deep_learning/X_train.csv')\n",
    "X_test = pd.read_csv('deep_learning/X_test.csv')\n",
    "y_train = pd.read_csv('deep_learning/y_train.csv')\n",
    "y_test = pd.read_csv('deep_learning/y_test.csv')"
   ],
   "metadata": {
    "collapsed": false
   },
   "id": "ca8a438e063aa03c"
  },
  {
   "cell_type": "markdown",
   "source": [
    "## Utility Functions"
   ],
   "metadata": {
    "collapsed": false
   },
   "id": "dab755c6cccb7cd5"
  },
  {
   "cell_type": "code",
   "outputs": [],
   "source": [
    "def confusion_matrix_plot(y_test, y_pred, title):\n",
    "    # Generate confusion matrix\n",
    "    conf_matrix = confusion_matrix(y_test, y_pred)\n",
    "\n",
    "    # Plot the confusion matrix\n",
    "    disp = ConfusionMatrixDisplay(confusion_matrix=conf_matrix, display_labels=[\"Fall\", \"No Fall\"])\n",
    "    disp.plot(cmap='Blues')\n",
    "    disp.ax_.set_title(title)\n",
    "    disp.ax_.set_xlabel(\"Predicted\")\n",
    "    disp.ax_.set_ylabel(\"True\")\n",
    "    disp.figure_.set_size_inches(8, 6)\n",
    "    disp.figure_.tight_layout()\n",
    "    plt.show()"
   ],
   "metadata": {
    "collapsed": false
   },
   "id": "d3bda5a2fe0a6b10"
  },
  {
   "cell_type": "markdown",
   "source": [
    "## Convolutional Neural Network (CNN)"
   ],
   "metadata": {
    "collapsed": false
   },
   "id": "169e421f8f4bca29"
  },
  {
   "cell_type": "code",
   "outputs": [],
   "source": [
    "# Reshape the data to fit the CNN input shape\n",
    "X_train = X_train.values.reshape(X_train.shape[0], 1, X_train.shape[1], 1)\n",
    "X_test = X_test.values.reshape(X_test.shape[0], 1, X_test.shape[1], 1)"
   ],
   "metadata": {
    "collapsed": false
   },
   "id": "e4bb5c882cf2a542"
  },
  {
   "cell_type": "code",
   "outputs": [],
   "source": [
    "# Convert the labels to categorical format\n",
    "y_train = pd.get_dummies(y_train).values\n",
    "y_test = pd.get_dummies(y_test).values"
   ],
   "metadata": {
    "collapsed": false
   },
   "id": "d69154250bc11ae7"
  },
  {
   "cell_type": "code",
   "outputs": [],
   "source": [
    "# Define the CNN model\n",
    "model = keras.Sequential([\n",
    "    layers.Conv2D(32, (3, 3), activation='relu', input_shape=(1, X_train.shape[2], 1)),\n",
    "    layers.MaxPooling2D((2, 2)),\n",
    "    layers.Conv2D(64, (3, 3), activation='relu'),\n",
    "    layers.MaxPooling2D((2, 2)),\n",
    "    layers.Conv2D(128, (3, 3), activation='relu'),\n",
    "    layers.MaxPooling2D((2, 2)),\n",
    "    layers.Flatten(),\n",
    "    layers.Dense(128, activation='relu'),\n",
    "    layers.Dense(y_train.shape[1], activation='softmax')\n",
    "])"
   ],
   "metadata": {
    "collapsed": false
   },
   "id": "d6a300a47a10ce65"
  },
  {
   "cell_type": "code",
   "outputs": [],
   "source": [
    "# Compile the model\n",
    "model.compile(optimizer='adam',\n",
    "              loss='categorical_crossentropy',\n",
    "              metrics=['accuracy'])"
   ],
   "metadata": {
    "collapsed": false
   },
   "id": "78fc732c5c24868b"
  },
  {
   "cell_type": "code",
   "outputs": [],
   "source": [
    "# Train the model\n",
    "history = model.fit(X_train, y_train, epochs=10, batch_size=32, validation_split=0.2)"
   ],
   "metadata": {
    "collapsed": false
   },
   "id": "706db53ca6e9de93"
  },
  {
   "cell_type": "code",
   "outputs": [],
   "source": [
    "# Evaluate the model on the test set\n",
    "test_loss, test_acc = model.evaluate(X_test, y_test)\n",
    "print('Test accuracy:', test_acc)"
   ],
   "metadata": {
    "collapsed": false
   },
   "id": "5f662a5019a6024e"
  },
  {
   "cell_type": "code",
   "outputs": [],
   "source": [
    "# Make predictions on the test set\n",
    "y_pred = model.predict(X_test)\n",
    "y_pred_classes = np.argmax(y_pred, axis=1)\n",
    "y_true_classes = np.argmax(y_test, axis=1)"
   ],
   "metadata": {
    "collapsed": false
   },
   "id": "3f57434b65f16f5c"
  },
  {
   "cell_type": "code",
   "outputs": [],
   "source": [
    "# Calculate ROC AUC score\n",
    "roc_auc = roc_auc_score(y_test, y_pred)\n",
    "print('ROC AUC score:', roc_auc)"
   ],
   "metadata": {
    "collapsed": false
   },
   "id": "3858abe8443d89bc"
  },
  {
   "cell_type": "code",
   "outputs": [],
   "source": [
    "# Calculate F1 score\n",
    "f1 = f1_score(y_true_classes, y_pred_classes, average='weighted')\n",
    "print('F1 score:', f1)"
   ],
   "metadata": {
    "collapsed": false
   },
   "id": "a90d6b95bc1efae2"
  },
  {
   "cell_type": "code",
   "outputs": [],
   "source": [
    "# Print classification report\n",
    "print(classification_report(y_true_classes, y_pred_classes))"
   ],
   "metadata": {
    "collapsed": false
   },
   "id": "f5a427b3f536f23d"
  },
  {
   "cell_type": "code",
   "outputs": [],
   "source": [
    "# Plot confusion matrix\n",
    "confusion_matrix_plot(y_true_classes, y_pred_classes, \"CNN Confusion Matrix\")"
   ],
   "metadata": {
    "collapsed": false
   },
   "id": "e812ee6b7d2befbf"
  },
  {
   "cell_type": "code",
   "outputs": [],
   "source": [
    "# Plot ROC curve\n",
    "fpr, tpr, thresholds = roc_curve(y_true_classes, y_pred[:, 1])\n",
    "plt.figure()\n",
    "plt.plot(fpr, tpr, label='ROC curve (area = {:.2f})'.format(roc_auc))\n",
    "plt.plot([0, 1], [0, 1], 'k--')\n",
    "plt.xlim([0.0, 1.0])\n",
    "plt.ylim([0.0, 1.05])\n",
    "plt.xlabel('False Positive Rate')\n",
    "plt.ylabel('True Positive Rate')\n",
    "plt.title('Receiver Operating Characteristic')\n",
    "plt.legend(loc='lower right')\n",
    "plt.show()"
   ],
   "metadata": {
    "collapsed": false
   },
   "id": "ee41c09b1704d990"
  }
 ],
 "metadata": {
  "kernelspec": {
   "display_name": "Python 3",
   "language": "python",
   "name": "python3"
  },
  "language_info": {
   "codemirror_mode": {
    "name": "ipython",
    "version": 2
   },
   "file_extension": ".py",
   "mimetype": "text/x-python",
   "name": "python",
   "nbconvert_exporter": "python",
   "pygments_lexer": "ipython2",
   "version": "2.7.6"
  }
 },
 "nbformat": 4,
 "nbformat_minor": 5
}
