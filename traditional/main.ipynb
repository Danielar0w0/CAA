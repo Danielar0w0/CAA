{
 "cells": [
  {
   "cell_type": "markdown",
   "source": [
    "# Fall Detection using SisFall Dataset\n",
    "Daniela Dias, nMec 98039"
   ],
   "metadata": {
    "collapsed": false
   },
   "id": "fe0bbd8fe1a6592b"
  },
  {
   "cell_type": "code",
   "outputs": [],
   "source": [
    "import pandas as pd\n",
    "import matplotlib.pyplot as plt\n",
    "\n",
    "from sklearn.svm import SVC\n",
    "from sklearn.ensemble import RandomForestClassifier\n",
    "from sklearn.neighbors import KNeighborsClassifier\n",
    "from sklearn.metrics import f1_score, classification_report, roc_auc_score, confusion_matrix, ConfusionMatrixDisplay, \\\n",
    "    roc_curve\n",
    "import optuna\n",
    "import optuna.visualization as vis\n",
    "import joblib\n",
    "import plotly"
   ],
   "metadata": {
    "collapsed": false,
    "ExecuteTime": {
     "end_time": "2025-05-02T22:01:15.144340Z",
     "start_time": "2025-05-02T22:01:14.116524Z"
    }
   },
   "id": "6de62c0cbf3f6c95",
   "execution_count": 1
  },
  {
   "cell_type": "code",
   "outputs": [],
   "source": [
    "# optuna.logging.disable_default_handler()"
   ],
   "metadata": {
    "collapsed": false,
    "ExecuteTime": {
     "end_time": "2025-05-02T22:01:15.158508Z",
     "start_time": "2025-05-02T22:01:15.150404Z"
    }
   },
   "id": "f2d015e4d24e67b9",
   "execution_count": 2
  },
  {
   "cell_type": "code",
   "outputs": [],
   "source": [
    "# Load the preprocessed dataset from CSV files\n",
    "X_train = pd.read_csv('X_train.csv')\n",
    "X_test = pd.read_csv('X_test.csv')\n",
    "y_train = pd.read_csv('y_train.csv')\n",
    "y_test = pd.read_csv('y_test.csv')"
   ],
   "metadata": {
    "collapsed": false,
    "ExecuteTime": {
     "end_time": "2025-05-02T22:01:15.947982Z",
     "start_time": "2025-05-02T22:01:15.162873Z"
    }
   },
   "id": "d007877d63624b29",
   "execution_count": 3
  },
  {
   "cell_type": "code",
   "outputs": [
    {
     "data": {
      "text/plain": "((10960, 99), (10960, 1), (1870, 99), (1870, 1))"
     },
     "execution_count": 4,
     "metadata": {},
     "output_type": "execute_result"
    }
   ],
   "source": [
    "# Check the shape of the loaded dataset\n",
    "X_train.shape, y_train.shape, X_test.shape, y_test.shape"
   ],
   "metadata": {
    "collapsed": true,
    "ExecuteTime": {
     "end_time": "2025-05-02T22:01:15.982395Z",
     "start_time": "2025-05-02T22:01:15.955529Z"
    }
   },
   "id": "initial_id",
   "execution_count": 4
  },
  {
   "cell_type": "markdown",
   "source": [
    "## Utility Functions"
   ],
   "metadata": {
    "collapsed": false
   },
   "id": "b0de8fd7860553be"
  },
  {
   "cell_type": "code",
   "outputs": [],
   "source": [
    "def optuna_visualizations(study, title, params):\n",
    "    # Visualize the hyperparameter combinations and their performance\n",
    "    fig = vis.plot_contour(study, params=params)\n",
    "    fig.title(f\"Hyperparameter Contour Plot for {title}\")\n",
    "    fig.show()\n",
    "\n",
    "    # Visualize the optimization history\n",
    "    fig = vis.plot_optimization_history(study)\n",
    "    fig.title(f\"Optimization History for {title}\")\n",
    "    fig.show()\n",
    "\n",
    "    # Visualize the parameter importance\n",
    "    fig = vis.plot_param_importances(study)\n",
    "    fig.title(f\"Parameter Importance for {title}\")\n",
    "    fig.show()"
   ],
   "metadata": {
    "collapsed": false,
    "ExecuteTime": {
     "end_time": "2025-05-02T22:01:16.006620Z",
     "start_time": "2025-05-02T22:01:15.988314Z"
    }
   },
   "id": "2a89185141081bd7",
   "execution_count": 5
  },
  {
   "cell_type": "code",
   "outputs": [],
   "source": [
    "def confusion_matrix_plot(y_test, y_pred, title):\n",
    "    # Generate confusion matrix\n",
    "    conf_matrix = confusion_matrix(y_test, y_pred)\n",
    "\n",
    "    # Plot the confusion matrix\n",
    "    disp = ConfusionMatrixDisplay(confusion_matrix=conf_matrix, display_labels=[\"Fall\", \"No Fall\"])\n",
    "    disp.plot(cmap='Blues')\n",
    "    disp.ax_.set_title(title)\n",
    "    disp.ax_.set_xlabel(\"Predicted\")\n",
    "    disp.ax_.set_ylabel(\"True\")\n",
    "    disp.figure_.set_size_inches(8, 6)\n",
    "    disp.figure_.tight_layout()\n",
    "    plt.show()"
   ],
   "metadata": {
    "collapsed": false,
    "ExecuteTime": {
     "end_time": "2025-05-02T22:01:16.027040Z",
     "start_time": "2025-05-02T22:01:16.011798Z"
    }
   },
   "id": "c83b4fbc9b37de00",
   "execution_count": 6
  },
  {
   "cell_type": "code",
   "outputs": [],
   "source": [
    "def roc_curve_plot(y_test, y_proba, title):\n",
    "    # Calculate ROC curve\n",
    "    fpr, tpr, thresholds = roc_curve(y_test, y_proba[:, 1], pos_label=1)\n",
    "    roc_auc = roc_auc_score(y_test, y_proba[:, 1])\n",
    "\n",
    "    # Plot ROC curve\n",
    "    plt.figure(figsize=(8, 6))\n",
    "    plt.plot(fpr, tpr, label='ROC Curve (area = {:.2f})'.format(roc_auc), color='blue')\n",
    "    plt.plot([0, 1], [0, 1], 'r--', label='Random Guessing')\n",
    "    plt.xlim([0.0, 1.0])\n",
    "    plt.ylim([0.0, 1.05])\n",
    "    plt.xlabel('False Positive Rate')\n",
    "    plt.ylabel('True Positive Rate')\n",
    "    plt.title(title)\n",
    "    plt.legend(loc='lower right')\n",
    "    plt.grid()\n",
    "    plt.show()"
   ],
   "metadata": {
    "collapsed": false,
    "ExecuteTime": {
     "end_time": "2025-05-02T22:01:16.051344Z",
     "start_time": "2025-05-02T22:01:16.032825Z"
    }
   },
   "id": "529d01494e4af3be",
   "execution_count": 7
  },
  {
   "cell_type": "code",
   "outputs": [],
   "source": [
    "def run_model(model, X_train, y_train, X_test, y_test):\n",
    "    # Fit the model on the training data\n",
    "    model.fit(X_train, y_train.values.ravel())\n",
    "\n",
    "    # Make predictions on the test data\n",
    "    y_pred = model.predict(X_test)\n",
    "    y_proba = model.predict_proba(X_test)\n",
    "\n",
    "    # Calculate the F1 score\n",
    "    f1 = f1_score(y_test, y_pred, average='macro')\n",
    "    print(\"F1 score: \", f1)\n",
    "\n",
    "    # Print the classification report\n",
    "    print(classification_report(y_test, y_pred))\n",
    "\n",
    "    # Calculate ROC-AUC score\n",
    "    roc_auc = roc_auc_score(y_test, y_proba)\n",
    "    print(f\"ROC-AUC Score: {roc_auc:.4f}\")\n",
    "\n",
    "    return y_pred, y_proba"
   ],
   "metadata": {
    "collapsed": false,
    "ExecuteTime": {
     "end_time": "2025-05-02T22:01:16.073809Z",
     "start_time": "2025-05-02T22:01:16.057721Z"
    }
   },
   "id": "ce2fc8ee71e0f23a",
   "execution_count": 8
  },
  {
   "cell_type": "markdown",
   "source": [
    "## Support Vector Machine (SVM)"
   ],
   "metadata": {
    "collapsed": false
   },
   "id": "9b5686bd884b83b7"
  },
  {
   "cell_type": "code",
   "outputs": [],
   "source": [
    "def svm_objective(trial):\n",
    "    # Define the hyperparameter search space\n",
    "    C = trial.suggest_float('C', 1e-5, 1e5, log=True)\n",
    "    gamma = trial.suggest_float('gamma', 1e-5, 1e5, log=True)\n",
    "    kernel = trial.suggest_categorical('kernel', ['linear', 'rbf'])\n",
    "\n",
    "    # Create the SVM model with the suggested hyperparameters\n",
    "    model = SVC(C=C, gamma=gamma, kernel=kernel)\n",
    "\n",
    "    # Fit the model on the training data\n",
    "    model.fit(X_train, y_train.values.ravel())\n",
    "\n",
    "    # Make predictions on the test data\n",
    "    y_pred = model.predict(X_test)\n",
    "\n",
    "    # Calculate the F1 score\n",
    "    return f1_score(y_test, y_pred, average='macro')"
   ],
   "metadata": {
    "collapsed": false,
    "ExecuteTime": {
     "end_time": "2025-05-02T22:01:16.095156Z",
     "start_time": "2025-05-02T22:01:16.080223Z"
    }
   },
   "id": "50769bf07d585538",
   "execution_count": 9
  },
  {
   "cell_type": "code",
   "outputs": [
    {
     "name": "stderr",
     "output_type": "stream",
     "text": [
      "[I 2025-05-02 23:01:16,122] A new study created in memory with name: no-name-690881fa-4c59-498b-96ce-a993f2fc5896\n",
      "[I 2025-05-02 23:01:25,674] Trial 0 finished with value: 0.737865478221553 and parameters: {'C': 0.0004544568418909225, 'gamma': 0.1356562834477823, 'kernel': 'linear'}. Best is trial 0 with value: 0.737865478221553.\n",
      "[I 2025-05-02 23:01:36,492] Trial 1 finished with value: 0.7105858835288239 and parameters: {'C': 0.10889621050501146, 'gamma': 7662.697424308969, 'kernel': 'linear'}. Best is trial 0 with value: 0.737865478221553.\n",
      "[I 2025-05-02 23:01:43,590] Trial 2 finished with value: 0.7214611019233873 and parameters: {'C': 0.003609710241951188, 'gamma': 0.000972948243454224, 'kernel': 'linear'}. Best is trial 0 with value: 0.737865478221553.\n",
      "[I 2025-05-02 23:02:07,168] Trial 3 finished with value: 0.7014731017408393 and parameters: {'C': 0.000680318886522783, 'gamma': 6.874648850197391e-05, 'kernel': 'rbf'}. Best is trial 0 with value: 0.737865478221553.\n",
      "[I 2025-05-02 23:02:31,791] Trial 4 finished with value: 0.4106439213020795 and parameters: {'C': 0.08764124810824275, 'gamma': 0.3958249204992346, 'kernel': 'rbf'}. Best is trial 0 with value: 0.737865478221553.\n",
      "[I 2025-05-02 23:02:50,800] Trial 5 finished with value: 0.7362058787784086 and parameters: {'C': 0.19182410070506437, 'gamma': 7.567052094495335e-05, 'kernel': 'rbf'}. Best is trial 0 with value: 0.737865478221553.\n",
      "[I 2025-05-02 23:02:59,802] Trial 6 finished with value: 0.7152598645135959 and parameters: {'C': 0.015541451909575867, 'gamma': 0.034887274907174214, 'kernel': 'linear'}. Best is trial 0 with value: 0.737865478221553.\n"
     ]
    }
   ],
   "source": [
    "# Create a study object and optimize the objective function\n",
    "svm_study = optuna.create_study(direction='maximize')\n",
    "svm_study.optimize(svm_objective, n_trials=10)"
   ],
   "metadata": {
    "collapsed": false,
    "ExecuteTime": {
     "start_time": "2025-05-02T22:01:16.112241Z"
    }
   },
   "id": "8c4ff2000378ec8d",
   "execution_count": null
  },
  {
   "cell_type": "code",
   "outputs": [],
   "source": [
    "# Print the best hyperparameters and the corresponding F1 score\n",
    "print(\"Best hyperparameters: \", svm_study.best_params)\n",
    "print(\"Best F1 score: \", svm_study.best_value)"
   ],
   "metadata": {
    "collapsed": false
   },
   "id": "c9fe26db67a00ff6",
   "execution_count": null
  },
  {
   "cell_type": "code",
   "outputs": [],
   "source": [
    "# Visualize optuna results\n",
    "optuna_visualizations(svm_study, \"SVM\", [\"C\", \"gamma\", \"kernel\"])"
   ],
   "metadata": {
    "collapsed": false
   },
   "id": "a3c93cc66709e0a7",
   "execution_count": null
  },
  {
   "cell_type": "code",
   "outputs": [],
   "source": [
    "# Run the SVM model with the best hyperparameters\n",
    "best_svm_model = SVC(**svm_study.best_params)\n",
    "y_pred, y_proba = run_model(best_svm_model, X_train, y_train, X_test, y_test)"
   ],
   "metadata": {
    "collapsed": false
   },
   "id": "90d30519623462f3"
  },
  {
   "cell_type": "code",
   "outputs": [],
   "source": [
    "# Plot confusion matrix\n",
    "confusion_matrix_plot(y_test, y_pred, \"Confusion Matrix for SVM\")"
   ],
   "metadata": {
    "collapsed": false
   },
   "id": "578f47c2cdc95a62"
  },
  {
   "cell_type": "code",
   "outputs": [],
   "source": [
    "# Plot ROC curve\n",
    "roc_curve_plot(y_test, y_proba, \"ROC Curve for SVM\")"
   ],
   "metadata": {
    "collapsed": false
   },
   "id": "3be7c85b6da5f007"
  },
  {
   "cell_type": "code",
   "outputs": [],
   "source": [
    "# Save the model\n",
    "joblib.dump(best_svm_model, 'best_svm_model.pkl')"
   ],
   "metadata": {
    "collapsed": false
   },
   "id": "f2719539e868c361"
  },
  {
   "cell_type": "markdown",
   "source": [
    "## Random Forest"
   ],
   "metadata": {
    "collapsed": false
   },
   "id": "6ab7be07e9dfed26"
  },
  {
   "cell_type": "code",
   "outputs": [],
   "source": [
    "def rf_objective(trial):\n",
    "    # Define the hyperparameter search space\n",
    "    n_estimators = trial.suggest_int('n_estimators', 10, 200)\n",
    "    max_depth = trial.suggest_int('max_depth', 1, 50)\n",
    "    min_samples_split = trial.suggest_int('min_samples_split', 2, 20)\n",
    "    min_samples_leaf = trial.suggest_int('min_samples_leaf', 1, 20)\n",
    "\n",
    "    # Create the Random Forest model with the suggested hyperparameters\n",
    "    model = RandomForestClassifier(n_estimators=n_estimators, max_depth=max_depth,\n",
    "                                   min_samples_split=min_samples_split, min_samples_leaf=min_samples_leaf)\n",
    "\n",
    "    # Fit the model on the training data\n",
    "    model.fit(X_train, y_train.values.ravel())\n",
    "\n",
    "    # Make predictions on the test data\n",
    "    y_pred = model.predict(X_test)\n",
    "\n",
    "    # Calculate the F1 score\n",
    "    return f1_score(y_test, y_pred, average='macro')"
   ],
   "metadata": {
    "collapsed": false
   },
   "id": "c3f686e756acf481"
  },
  {
   "cell_type": "code",
   "outputs": [],
   "source": [
    "# Create a study object and optimize the objective function\n",
    "rf_study = optuna.create_study(direction='maximize')\n",
    "rf_study.optimize(rf_objective, n_trials=10)"
   ],
   "metadata": {
    "collapsed": false
   },
   "id": "163fb868e79d7864"
  },
  {
   "cell_type": "code",
   "outputs": [],
   "source": [
    "# Print the best hyperparameters and the corresponding F1 score\n",
    "print(\"Best hyperparameters: \", rf_study.best_params)\n",
    "print(\"Best F1 score: \", rf_study.best_value)"
   ],
   "metadata": {
    "collapsed": false
   },
   "id": "bcbb209e67cc100b"
  },
  {
   "cell_type": "code",
   "outputs": [],
   "source": [
    "# Visualize optuna results\n",
    "optuna_visualizations(rf_study, \"Random Forest\", [\"n_estimators\", \"max_depth\", \"min_samples_split\", \"min_samples_leaf\"])"
   ],
   "metadata": {
    "collapsed": false
   },
   "id": "682c88ba86431c2d"
  },
  {
   "cell_type": "code",
   "outputs": [],
   "source": [
    "# Run the Random Forest model with the best hyperparameters\n",
    "best_rf_model = RandomForestClassifier(**rf_study.best_params)\n",
    "y_pred, y_proba = run_model(best_rf_model, X_train, y_train, X_test, y_test)"
   ],
   "metadata": {
    "collapsed": false
   },
   "id": "b0edcbde4582bb9c"
  },
  {
   "cell_type": "code",
   "outputs": [],
   "source": [
    "# Plot confusion matrix\n",
    "confusion_matrix_plot(y_test, y_pred, \"Confusion Matrix for Random Forest\")"
   ],
   "metadata": {
    "collapsed": false
   },
   "id": "9972035857ca27df"
  },
  {
   "cell_type": "code",
   "outputs": [],
   "source": [
    "# Plot ROC curve\n",
    "roc_curve_plot(y_test, y_proba, \"ROC Curve for Random Forest\")"
   ],
   "metadata": {
    "collapsed": false
   },
   "id": "b920ddf6010ea31b"
  },
  {
   "cell_type": "code",
   "outputs": [],
   "source": [
    "# Save the model\n",
    "joblib.dump(best_rf_model, 'best_rf_model.pkl')"
   ],
   "metadata": {
    "collapsed": false
   },
   "id": "27ba61dfd05dd6bb"
  },
  {
   "cell_type": "markdown",
   "source": [
    "## K-Nearest Neighbors (KNN)"
   ],
   "metadata": {
    "collapsed": false
   },
   "id": "32a65afa6d3d9c1"
  },
  {
   "cell_type": "code",
   "outputs": [],
   "source": [
    "def knn_objective(trial):\n",
    "    # Define the hyperparameter search space\n",
    "    n_neighbors = trial.suggest_int('n_neighbors', 1, 50)\n",
    "    weights = trial.suggest_categorical('weights', ['uniform', 'distance'])\n",
    "    algorithm = trial.suggest_categorical('algorithm', ['auto', 'ball_tree', 'kd_tree', 'brute'])\n",
    "\n",
    "    # Create the KNN model with the suggested hyperparameters\n",
    "    model = KNeighborsClassifier(n_neighbors=n_neighbors, weights=weights, algorithm=algorithm)\n",
    "\n",
    "    # Fit the model on the training data\n",
    "    model.fit(X_train, y_train.values.ravel())\n",
    "\n",
    "    # Make predictions on the test data\n",
    "    y_pred = model.predict(X_test)\n",
    "\n",
    "    # Calculate the F1 score\n",
    "    return f1_score(y_test, y_pred, average='macro')"
   ],
   "metadata": {
    "collapsed": false
   },
   "id": "698841fbd0fe96f3"
  },
  {
   "cell_type": "code",
   "outputs": [],
   "source": [
    "# Create a study object and optimize the objective function\n",
    "knn_study = optuna.create_study(direction='maximize')\n",
    "knn_study.optimize(knn_objective, n_trials=10)"
   ],
   "metadata": {
    "collapsed": false
   },
   "id": "38dc5d7e579dc483"
  },
  {
   "cell_type": "code",
   "outputs": [],
   "source": [
    "# Print the best hyperparameters and the corresponding F1 score\n",
    "print(\"Best hyperparameters: \", knn_study.best_params)\n",
    "print(\"Best F1 score: \", knn_study.best_value)"
   ],
   "metadata": {
    "collapsed": false
   },
   "id": "f739fb29b4646ac5"
  },
  {
   "cell_type": "code",
   "outputs": [],
   "source": [
    "# Visualize optuna results\n",
    "optuna_visualizations(knn_study, \"KNN\", [\"n_neighbors\", \"weights\", \"algorithm\"])"
   ],
   "metadata": {
    "collapsed": false
   },
   "id": "b16bd5b6946adc33"
  },
  {
   "cell_type": "code",
   "outputs": [],
   "source": [
    "# Run the KNN model with the best hyperparameters\n",
    "best_knn_model = KNeighborsClassifier(**knn_study.best_params)\n",
    "y_pred, y_proba = run_model(best_knn_model, X_train, y_train, X_test, y_test)"
   ],
   "metadata": {
    "collapsed": false
   },
   "id": "ebfc9858ef7b49be"
  },
  {
   "cell_type": "code",
   "outputs": [],
   "source": [
    "# Plot confusion matrix\n",
    "confusion_matrix_plot(y_test, y_pred, \"Confusion Matrix for KNN\")"
   ],
   "metadata": {
    "collapsed": false
   },
   "id": "92cb2727b0fc028b"
  },
  {
   "cell_type": "code",
   "outputs": [],
   "source": [
    "# Plot ROC curve\n",
    "roc_curve_plot(y_test, y_proba, \"ROC Curve for KNN\")"
   ],
   "metadata": {
    "collapsed": false
   },
   "id": "cf7737521b1152ed"
  },
  {
   "cell_type": "code",
   "outputs": [],
   "source": [
    "# Save the model\n",
    "joblib.dump(best_knn_model, 'best_knn_model.pkl')"
   ],
   "metadata": {
    "collapsed": false
   },
   "id": "8b0d7f7278bcc42b"
  }
 ],
 "metadata": {
  "kernelspec": {
   "display_name": "Python 3",
   "language": "python",
   "name": "python3"
  },
  "language_info": {
   "codemirror_mode": {
    "name": "ipython",
    "version": 2
   },
   "file_extension": ".py",
   "mimetype": "text/x-python",
   "name": "python",
   "nbconvert_exporter": "python",
   "pygments_lexer": "ipython2",
   "version": "2.7.6"
  }
 },
 "nbformat": 4,
 "nbformat_minor": 5
}
