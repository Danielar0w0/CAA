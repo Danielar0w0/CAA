{
 "cells": [
  {
   "cell_type": "markdown",
   "source": [
    "# Fall Detection using SisFall Dataset\n",
    "Daniela Dias, nMec 98039"
   ],
   "metadata": {
    "collapsed": false
   },
   "id": "fe0bbd8fe1a6592b"
  },
  {
   "cell_type": "code",
   "outputs": [],
   "source": [
    "import pandas as pd\n",
    "import matplotlib.pyplot as plt\n",
    "\n",
    "from sklearn.svm import SVC\n",
    "from sklearn.ensemble import RandomForestClassifier\n",
    "from sklearn.neighbors import KNeighborsClassifier\n",
    "from sklearn.metrics import f1_score, classification_report, roc_auc_score, confusion_matrix, ConfusionMatrixDisplay, \\\n",
    "    roc_curve\n",
    "import optuna\n",
    "import optuna.visualization as vis\n",
    "import joblib\n",
    "import plotly"
   ],
   "metadata": {
    "collapsed": false,
    "ExecuteTime": {
     "end_time": "2025-05-01T19:58:58.733649Z",
     "start_time": "2025-05-01T19:58:56.014143Z"
    }
   },
   "id": "6de62c0cbf3f6c95",
   "execution_count": 1
  },
  {
   "cell_type": "code",
   "outputs": [],
   "source": [
    "optuna.logging.disable_default_handler()"
   ],
   "metadata": {
    "collapsed": false,
    "ExecuteTime": {
     "end_time": "2025-05-01T19:58:58.738510Z",
     "start_time": "2025-05-01T19:58:58.734658Z"
    }
   },
   "id": "f2d015e4d24e67b9",
   "execution_count": 2
  },
  {
   "cell_type": "code",
   "outputs": [
    {
     "ename": "FileNotFoundError",
     "evalue": "[Errno 2] No such file or directory: 'traditional_sisfall_X_train.csv'",
     "output_type": "error",
     "traceback": [
      "\u001B[31m---------------------------------------------------------------------------\u001B[39m",
      "\u001B[31mFileNotFoundError\u001B[39m                         Traceback (most recent call last)",
      "\u001B[36mCell\u001B[39m\u001B[36m \u001B[39m\u001B[32mIn[3]\u001B[39m\u001B[32m, line 2\u001B[39m\n\u001B[32m      1\u001B[39m \u001B[38;5;66;03m# Load the preprocessed dataset from CSV files\u001B[39;00m\n\u001B[32m----> \u001B[39m\u001B[32m2\u001B[39m X_train = \u001B[43mpd\u001B[49m\u001B[43m.\u001B[49m\u001B[43mread_csv\u001B[49m\u001B[43m(\u001B[49m\u001B[33;43m'\u001B[39;49m\u001B[33;43mtraditional_sisfall_X_train.csv\u001B[39;49m\u001B[33;43m'\u001B[39;49m\u001B[43m)\u001B[49m\n\u001B[32m      3\u001B[39m X_test = pd.read_csv(\u001B[33m'\u001B[39m\u001B[33mtraditional_sisfall_X_test.csv\u001B[39m\u001B[33m'\u001B[39m)\n\u001B[32m      4\u001B[39m y_train = pd.read_csv(\u001B[33m'\u001B[39m\u001B[33mtraditional_sisfall_y_train.csv\u001B[39m\u001B[33m'\u001B[39m)\n",
      "\u001B[36mFile \u001B[39m\u001B[32m~\\Documents\\Github\\CAA\\venv\\Lib\\site-packages\\pandas\\io\\parsers\\readers.py:1026\u001B[39m, in \u001B[36mread_csv\u001B[39m\u001B[34m(filepath_or_buffer, sep, delimiter, header, names, index_col, usecols, dtype, engine, converters, true_values, false_values, skipinitialspace, skiprows, skipfooter, nrows, na_values, keep_default_na, na_filter, verbose, skip_blank_lines, parse_dates, infer_datetime_format, keep_date_col, date_parser, date_format, dayfirst, cache_dates, iterator, chunksize, compression, thousands, decimal, lineterminator, quotechar, quoting, doublequote, escapechar, comment, encoding, encoding_errors, dialect, on_bad_lines, delim_whitespace, low_memory, memory_map, float_precision, storage_options, dtype_backend)\u001B[39m\n\u001B[32m   1013\u001B[39m kwds_defaults = _refine_defaults_read(\n\u001B[32m   1014\u001B[39m     dialect,\n\u001B[32m   1015\u001B[39m     delimiter,\n\u001B[32m   (...)\u001B[39m\u001B[32m   1022\u001B[39m     dtype_backend=dtype_backend,\n\u001B[32m   1023\u001B[39m )\n\u001B[32m   1024\u001B[39m kwds.update(kwds_defaults)\n\u001B[32m-> \u001B[39m\u001B[32m1026\u001B[39m \u001B[38;5;28;01mreturn\u001B[39;00m \u001B[43m_read\u001B[49m\u001B[43m(\u001B[49m\u001B[43mfilepath_or_buffer\u001B[49m\u001B[43m,\u001B[49m\u001B[43m \u001B[49m\u001B[43mkwds\u001B[49m\u001B[43m)\u001B[49m\n",
      "\u001B[36mFile \u001B[39m\u001B[32m~\\Documents\\Github\\CAA\\venv\\Lib\\site-packages\\pandas\\io\\parsers\\readers.py:620\u001B[39m, in \u001B[36m_read\u001B[39m\u001B[34m(filepath_or_buffer, kwds)\u001B[39m\n\u001B[32m    617\u001B[39m _validate_names(kwds.get(\u001B[33m\"\u001B[39m\u001B[33mnames\u001B[39m\u001B[33m\"\u001B[39m, \u001B[38;5;28;01mNone\u001B[39;00m))\n\u001B[32m    619\u001B[39m \u001B[38;5;66;03m# Create the parser.\u001B[39;00m\n\u001B[32m--> \u001B[39m\u001B[32m620\u001B[39m parser = \u001B[43mTextFileReader\u001B[49m\u001B[43m(\u001B[49m\u001B[43mfilepath_or_buffer\u001B[49m\u001B[43m,\u001B[49m\u001B[43m \u001B[49m\u001B[43m*\u001B[49m\u001B[43m*\u001B[49m\u001B[43mkwds\u001B[49m\u001B[43m)\u001B[49m\n\u001B[32m    622\u001B[39m \u001B[38;5;28;01mif\u001B[39;00m chunksize \u001B[38;5;129;01mor\u001B[39;00m iterator:\n\u001B[32m    623\u001B[39m     \u001B[38;5;28;01mreturn\u001B[39;00m parser\n",
      "\u001B[36mFile \u001B[39m\u001B[32m~\\Documents\\Github\\CAA\\venv\\Lib\\site-packages\\pandas\\io\\parsers\\readers.py:1620\u001B[39m, in \u001B[36mTextFileReader.__init__\u001B[39m\u001B[34m(self, f, engine, **kwds)\u001B[39m\n\u001B[32m   1617\u001B[39m     \u001B[38;5;28mself\u001B[39m.options[\u001B[33m\"\u001B[39m\u001B[33mhas_index_names\u001B[39m\u001B[33m\"\u001B[39m] = kwds[\u001B[33m\"\u001B[39m\u001B[33mhas_index_names\u001B[39m\u001B[33m\"\u001B[39m]\n\u001B[32m   1619\u001B[39m \u001B[38;5;28mself\u001B[39m.handles: IOHandles | \u001B[38;5;28;01mNone\u001B[39;00m = \u001B[38;5;28;01mNone\u001B[39;00m\n\u001B[32m-> \u001B[39m\u001B[32m1620\u001B[39m \u001B[38;5;28mself\u001B[39m._engine = \u001B[38;5;28;43mself\u001B[39;49m\u001B[43m.\u001B[49m\u001B[43m_make_engine\u001B[49m\u001B[43m(\u001B[49m\u001B[43mf\u001B[49m\u001B[43m,\u001B[49m\u001B[43m \u001B[49m\u001B[38;5;28;43mself\u001B[39;49m\u001B[43m.\u001B[49m\u001B[43mengine\u001B[49m\u001B[43m)\u001B[49m\n",
      "\u001B[36mFile \u001B[39m\u001B[32m~\\Documents\\Github\\CAA\\venv\\Lib\\site-packages\\pandas\\io\\parsers\\readers.py:1880\u001B[39m, in \u001B[36mTextFileReader._make_engine\u001B[39m\u001B[34m(self, f, engine)\u001B[39m\n\u001B[32m   1878\u001B[39m     \u001B[38;5;28;01mif\u001B[39;00m \u001B[33m\"\u001B[39m\u001B[33mb\u001B[39m\u001B[33m\"\u001B[39m \u001B[38;5;129;01mnot\u001B[39;00m \u001B[38;5;129;01min\u001B[39;00m mode:\n\u001B[32m   1879\u001B[39m         mode += \u001B[33m\"\u001B[39m\u001B[33mb\u001B[39m\u001B[33m\"\u001B[39m\n\u001B[32m-> \u001B[39m\u001B[32m1880\u001B[39m \u001B[38;5;28mself\u001B[39m.handles = \u001B[43mget_handle\u001B[49m\u001B[43m(\u001B[49m\n\u001B[32m   1881\u001B[39m \u001B[43m    \u001B[49m\u001B[43mf\u001B[49m\u001B[43m,\u001B[49m\n\u001B[32m   1882\u001B[39m \u001B[43m    \u001B[49m\u001B[43mmode\u001B[49m\u001B[43m,\u001B[49m\n\u001B[32m   1883\u001B[39m \u001B[43m    \u001B[49m\u001B[43mencoding\u001B[49m\u001B[43m=\u001B[49m\u001B[38;5;28;43mself\u001B[39;49m\u001B[43m.\u001B[49m\u001B[43moptions\u001B[49m\u001B[43m.\u001B[49m\u001B[43mget\u001B[49m\u001B[43m(\u001B[49m\u001B[33;43m\"\u001B[39;49m\u001B[33;43mencoding\u001B[39;49m\u001B[33;43m\"\u001B[39;49m\u001B[43m,\u001B[49m\u001B[43m \u001B[49m\u001B[38;5;28;43;01mNone\u001B[39;49;00m\u001B[43m)\u001B[49m\u001B[43m,\u001B[49m\n\u001B[32m   1884\u001B[39m \u001B[43m    \u001B[49m\u001B[43mcompression\u001B[49m\u001B[43m=\u001B[49m\u001B[38;5;28;43mself\u001B[39;49m\u001B[43m.\u001B[49m\u001B[43moptions\u001B[49m\u001B[43m.\u001B[49m\u001B[43mget\u001B[49m\u001B[43m(\u001B[49m\u001B[33;43m\"\u001B[39;49m\u001B[33;43mcompression\u001B[39;49m\u001B[33;43m\"\u001B[39;49m\u001B[43m,\u001B[49m\u001B[43m \u001B[49m\u001B[38;5;28;43;01mNone\u001B[39;49;00m\u001B[43m)\u001B[49m\u001B[43m,\u001B[49m\n\u001B[32m   1885\u001B[39m \u001B[43m    \u001B[49m\u001B[43mmemory_map\u001B[49m\u001B[43m=\u001B[49m\u001B[38;5;28;43mself\u001B[39;49m\u001B[43m.\u001B[49m\u001B[43moptions\u001B[49m\u001B[43m.\u001B[49m\u001B[43mget\u001B[49m\u001B[43m(\u001B[49m\u001B[33;43m\"\u001B[39;49m\u001B[33;43mmemory_map\u001B[39;49m\u001B[33;43m\"\u001B[39;49m\u001B[43m,\u001B[49m\u001B[43m \u001B[49m\u001B[38;5;28;43;01mFalse\u001B[39;49;00m\u001B[43m)\u001B[49m\u001B[43m,\u001B[49m\n\u001B[32m   1886\u001B[39m \u001B[43m    \u001B[49m\u001B[43mis_text\u001B[49m\u001B[43m=\u001B[49m\u001B[43mis_text\u001B[49m\u001B[43m,\u001B[49m\n\u001B[32m   1887\u001B[39m \u001B[43m    \u001B[49m\u001B[43merrors\u001B[49m\u001B[43m=\u001B[49m\u001B[38;5;28;43mself\u001B[39;49m\u001B[43m.\u001B[49m\u001B[43moptions\u001B[49m\u001B[43m.\u001B[49m\u001B[43mget\u001B[49m\u001B[43m(\u001B[49m\u001B[33;43m\"\u001B[39;49m\u001B[33;43mencoding_errors\u001B[39;49m\u001B[33;43m\"\u001B[39;49m\u001B[43m,\u001B[49m\u001B[43m \u001B[49m\u001B[33;43m\"\u001B[39;49m\u001B[33;43mstrict\u001B[39;49m\u001B[33;43m\"\u001B[39;49m\u001B[43m)\u001B[49m\u001B[43m,\u001B[49m\n\u001B[32m   1888\u001B[39m \u001B[43m    \u001B[49m\u001B[43mstorage_options\u001B[49m\u001B[43m=\u001B[49m\u001B[38;5;28;43mself\u001B[39;49m\u001B[43m.\u001B[49m\u001B[43moptions\u001B[49m\u001B[43m.\u001B[49m\u001B[43mget\u001B[49m\u001B[43m(\u001B[49m\u001B[33;43m\"\u001B[39;49m\u001B[33;43mstorage_options\u001B[39;49m\u001B[33;43m\"\u001B[39;49m\u001B[43m,\u001B[49m\u001B[43m \u001B[49m\u001B[38;5;28;43;01mNone\u001B[39;49;00m\u001B[43m)\u001B[49m\u001B[43m,\u001B[49m\n\u001B[32m   1889\u001B[39m \u001B[43m\u001B[49m\u001B[43m)\u001B[49m\n\u001B[32m   1890\u001B[39m \u001B[38;5;28;01massert\u001B[39;00m \u001B[38;5;28mself\u001B[39m.handles \u001B[38;5;129;01mis\u001B[39;00m \u001B[38;5;129;01mnot\u001B[39;00m \u001B[38;5;28;01mNone\u001B[39;00m\n\u001B[32m   1891\u001B[39m f = \u001B[38;5;28mself\u001B[39m.handles.handle\n",
      "\u001B[36mFile \u001B[39m\u001B[32m~\\Documents\\Github\\CAA\\venv\\Lib\\site-packages\\pandas\\io\\common.py:873\u001B[39m, in \u001B[36mget_handle\u001B[39m\u001B[34m(path_or_buf, mode, encoding, compression, memory_map, is_text, errors, storage_options)\u001B[39m\n\u001B[32m    868\u001B[39m \u001B[38;5;28;01melif\u001B[39;00m \u001B[38;5;28misinstance\u001B[39m(handle, \u001B[38;5;28mstr\u001B[39m):\n\u001B[32m    869\u001B[39m     \u001B[38;5;66;03m# Check whether the filename is to be opened in binary mode.\u001B[39;00m\n\u001B[32m    870\u001B[39m     \u001B[38;5;66;03m# Binary mode does not support 'encoding' and 'newline'.\u001B[39;00m\n\u001B[32m    871\u001B[39m     \u001B[38;5;28;01mif\u001B[39;00m ioargs.encoding \u001B[38;5;129;01mand\u001B[39;00m \u001B[33m\"\u001B[39m\u001B[33mb\u001B[39m\u001B[33m\"\u001B[39m \u001B[38;5;129;01mnot\u001B[39;00m \u001B[38;5;129;01min\u001B[39;00m ioargs.mode:\n\u001B[32m    872\u001B[39m         \u001B[38;5;66;03m# Encoding\u001B[39;00m\n\u001B[32m--> \u001B[39m\u001B[32m873\u001B[39m         handle = \u001B[38;5;28;43mopen\u001B[39;49m\u001B[43m(\u001B[49m\n\u001B[32m    874\u001B[39m \u001B[43m            \u001B[49m\u001B[43mhandle\u001B[49m\u001B[43m,\u001B[49m\n\u001B[32m    875\u001B[39m \u001B[43m            \u001B[49m\u001B[43mioargs\u001B[49m\u001B[43m.\u001B[49m\u001B[43mmode\u001B[49m\u001B[43m,\u001B[49m\n\u001B[32m    876\u001B[39m \u001B[43m            \u001B[49m\u001B[43mencoding\u001B[49m\u001B[43m=\u001B[49m\u001B[43mioargs\u001B[49m\u001B[43m.\u001B[49m\u001B[43mencoding\u001B[49m\u001B[43m,\u001B[49m\n\u001B[32m    877\u001B[39m \u001B[43m            \u001B[49m\u001B[43merrors\u001B[49m\u001B[43m=\u001B[49m\u001B[43merrors\u001B[49m\u001B[43m,\u001B[49m\n\u001B[32m    878\u001B[39m \u001B[43m            \u001B[49m\u001B[43mnewline\u001B[49m\u001B[43m=\u001B[49m\u001B[33;43m\"\u001B[39;49m\u001B[33;43m\"\u001B[39;49m\u001B[43m,\u001B[49m\n\u001B[32m    879\u001B[39m \u001B[43m        \u001B[49m\u001B[43m)\u001B[49m\n\u001B[32m    880\u001B[39m     \u001B[38;5;28;01melse\u001B[39;00m:\n\u001B[32m    881\u001B[39m         \u001B[38;5;66;03m# Binary mode\u001B[39;00m\n\u001B[32m    882\u001B[39m         handle = \u001B[38;5;28mopen\u001B[39m(handle, ioargs.mode)\n",
      "\u001B[31mFileNotFoundError\u001B[39m: [Errno 2] No such file or directory: 'traditional_sisfall_X_train.csv'"
     ]
    }
   ],
   "source": [
    "# Load the preprocessed dataset from CSV files\n",
    "X_train = pd.read_csv('traditional/X_train.csv')\n",
    "X_test = pd.read_csv('traditional/X_test.csv')\n",
    "y_train = pd.read_csv('traditional/y_train.csv')\n",
    "y_test = pd.read_csv('traditional/y_test.csv')"
   ],
   "metadata": {
    "collapsed": false,
    "ExecuteTime": {
     "end_time": "2025-05-01T19:59:00.737152Z",
     "start_time": "2025-05-01T19:58:58.741523Z"
    }
   },
   "id": "d007877d63624b29",
   "execution_count": 3
  },
  {
   "cell_type": "code",
   "outputs": [],
   "source": [
    "# Check the shape of the loaded dataset\n",
    "X_train.shape, y_train.shape, X_test.shape, y_test.shape"
   ],
   "metadata": {
    "collapsed": true,
    "ExecuteTime": {
     "end_time": "2025-05-01T19:59:00.744737Z",
     "start_time": "2025-05-01T19:59:00.742687Z"
    }
   },
   "id": "initial_id",
   "execution_count": null
  },
  {
   "cell_type": "markdown",
   "source": [
    "## Utility Functions"
   ],
   "metadata": {
    "collapsed": false
   },
   "id": "b0de8fd7860553be"
  },
  {
   "cell_type": "code",
   "outputs": [],
   "source": [
    "def optuna_visualizations(study, title, params):\n",
    "    # Visualize the hyperparameter combinations and their performance\n",
    "    fig = vis.plot_contour(study, params=params)\n",
    "    fig.title(f\"Hyperparameter Contour Plot for {title}\")\n",
    "    fig.show()\n",
    "\n",
    "    # Visualize the optimization history\n",
    "    fig = vis.plot_optimization_history(study)\n",
    "    fig.title(f\"Optimization History for {title}\")\n",
    "    fig.show()\n",
    "\n",
    "    # Visualize the parameter importance\n",
    "    fig = vis.plot_param_importances(study)\n",
    "    fig.title(f\"Parameter Importance for {title}\")\n",
    "    fig.show()"
   ],
   "metadata": {
    "collapsed": false,
    "ExecuteTime": {
     "end_time": "2025-05-01T19:59:00.750236Z",
     "start_time": "2025-05-01T19:59:00.749225Z"
    }
   },
   "id": "2a89185141081bd7",
   "execution_count": null
  },
  {
   "cell_type": "code",
   "outputs": [],
   "source": [
    "def confusion_matrix_plot(y_test, y_pred, title):\n",
    "    # Generate confusion matrix\n",
    "    conf_matrix = confusion_matrix(y_test, y_pred)\n",
    "\n",
    "    # Plot the confusion matrix\n",
    "    disp = ConfusionMatrixDisplay(confusion_matrix=conf_matrix, display_labels=[\"Fall\", \"No Fall\"])\n",
    "    disp.plot(cmap='Blues')\n",
    "    disp.ax_.set_title(title)\n",
    "    disp.ax_.set_xlabel(\"Predicted\")\n",
    "    disp.ax_.set_ylabel(\"True\")\n",
    "    disp.figure_.set_size_inches(8, 6)\n",
    "    disp.figure_.tight_layout()\n",
    "    plt.show()"
   ],
   "metadata": {
    "collapsed": false,
    "ExecuteTime": {
     "start_time": "2025-05-01T19:59:00.752237Z"
    }
   },
   "id": "c83b4fbc9b37de00",
   "execution_count": null
  },
  {
   "cell_type": "code",
   "outputs": [],
   "source": [
    "def roc_curve_plot(y_test, y_proba, title):\n",
    "    # Calculate ROC curve\n",
    "    fpr, tpr, thresholds = roc_curve(y_test, y_proba[:, 1], pos_label=1)\n",
    "    roc_auc = roc_auc_score(y_test, y_proba[:, 1])\n",
    "\n",
    "    # Plot ROC curve\n",
    "    plt.figure(figsize=(8, 6))\n",
    "    plt.plot(fpr, tpr, label='ROC Curve (area = {:.2f})'.format(roc_auc), color='blue')\n",
    "    plt.plot([0, 1], [0, 1], 'r--', label='Random Guessing')\n",
    "    plt.xlim([0.0, 1.0])\n",
    "    plt.ylim([0.0, 1.05])\n",
    "    plt.xlabel('False Positive Rate')\n",
    "    plt.ylabel('True Positive Rate')\n",
    "    plt.title(title)\n",
    "    plt.legend(loc='lower right')\n",
    "    plt.grid()\n",
    "    plt.show()"
   ],
   "metadata": {
    "collapsed": false,
    "ExecuteTime": {
     "end_time": "2025-05-01T19:59:00.754775Z",
     "start_time": "2025-05-01T19:59:00.754775Z"
    }
   },
   "id": "529d01494e4af3be",
   "execution_count": null
  },
  {
   "cell_type": "code",
   "outputs": [],
   "source": [
    "def run_model(model, X_train, y_train, X_test, y_test):\n",
    "    # Fit the model on the training data\n",
    "    model.fit(X_train, y_train.values.ravel())\n",
    "\n",
    "    # Make predictions on the test data\n",
    "    y_pred = model.predict(X_test)\n",
    "    y_proba = model.predict_proba(X_test)\n",
    "\n",
    "    # Calculate the F1 score\n",
    "    f1 = f1_score(y_test, y_pred, average='macro')\n",
    "    print(\"F1 score: \", f1)\n",
    "\n",
    "    # Print the classification report\n",
    "    print(classification_report(y_test, y_pred))\n",
    "\n",
    "    # Calculate ROC-AUC score\n",
    "    roc_auc = roc_auc_score(y_test, y_proba)\n",
    "    print(f\"ROC-AUC Score: {roc_auc:.4f}\")\n",
    "\n",
    "    return y_pred, y_proba"
   ],
   "metadata": {
    "collapsed": false
   },
   "id": "ce2fc8ee71e0f23a",
   "execution_count": null
  },
  {
   "cell_type": "markdown",
   "source": [
    "## Support Vector Machine (SVM)"
   ],
   "metadata": {
    "collapsed": false
   },
   "id": "9b5686bd884b83b7"
  },
  {
   "cell_type": "code",
   "outputs": [],
   "source": [
    "def svm_objective(trial):\n",
    "    # Define the hyperparameter search space\n",
    "    C = trial.suggest_float('C', 1e-5, 1e5, log=True)\n",
    "    gamma = trial.suggest_float('gamma', 1e-5, 1e5, log=True)\n",
    "    kernel = trial.suggest_categorical('kernel', ['linear', 'rbf'])\n",
    "\n",
    "    # Create the SVM model with the suggested hyperparameters\n",
    "    model = SVC(C=C, gamma=gamma, kernel=kernel)\n",
    "\n",
    "    # Fit the model on the training data\n",
    "    model.fit(X_train, y_train.values.ravel())\n",
    "\n",
    "    # Make predictions on the test data\n",
    "    y_pred = model.predict(X_test)\n",
    "\n",
    "    # Calculate the F1 score\n",
    "    return f1_score(y_test, y_pred, average='macro')"
   ],
   "metadata": {
    "collapsed": false,
    "ExecuteTime": {
     "start_time": "2025-05-01T19:59:00.757770Z"
    }
   },
   "id": "50769bf07d585538",
   "execution_count": null
  },
  {
   "cell_type": "code",
   "outputs": [],
   "source": [
    "# Create a study object and optimize the objective function\n",
    "svm_study = optuna.create_study(direction='maximize')\n",
    "svm_study.optimize(svm_objective, n_trials=10)"
   ],
   "metadata": {
    "collapsed": false
   },
   "id": "8c4ff2000378ec8d",
   "execution_count": null
  },
  {
   "cell_type": "code",
   "outputs": [],
   "source": [
    "# Print the best hyperparameters and the corresponding F1 score\n",
    "print(\"Best hyperparameters: \", svm_study.best_params)\n",
    "print(\"Best F1 score: \", svm_study.best_value)"
   ],
   "metadata": {
    "collapsed": false,
    "ExecuteTime": {
     "start_time": "2025-05-01T19:59:00.764306Z"
    }
   },
   "id": "c9fe26db67a00ff6",
   "execution_count": null
  },
  {
   "cell_type": "code",
   "outputs": [],
   "source": [
    "# Visualize optuna results\n",
    "optuna_visualizations(svm_study, \"SVM\", [\"C\", \"gamma\", \"kernel\"])"
   ],
   "metadata": {
    "collapsed": false
   },
   "id": "a3c93cc66709e0a7",
   "execution_count": null
  },
  {
   "cell_type": "code",
   "outputs": [],
   "source": [
    "# Run the SVM model with the best hyperparameters\n",
    "best_svm_model = SVC(**svm_study.best_params)\n",
    "y_pred, y_proba = run_model(best_svm_model, X_train, y_train, X_test, y_test)"
   ],
   "metadata": {
    "collapsed": false
   },
   "id": "90d30519623462f3"
  },
  {
   "cell_type": "code",
   "outputs": [],
   "source": [
    "# Plot confusion matrix\n",
    "confusion_matrix_plot(y_test, y_pred, \"Confusion Matrix for SVM\")"
   ],
   "metadata": {
    "collapsed": false,
    "ExecuteTime": {
     "start_time": "2025-05-01T19:59:00.770302Z"
    }
   },
   "id": "578f47c2cdc95a62"
  },
  {
   "cell_type": "code",
   "outputs": [],
   "source": [
    "# Plot ROC curve\n",
    "roc_curve_plot(y_test, y_proba, \"ROC Curve for SVM\")"
   ],
   "metadata": {
    "collapsed": false
   },
   "id": "3be7c85b6da5f007"
  },
  {
   "cell_type": "code",
   "outputs": [],
   "source": [
    "# Save the model\n",
    "joblib.dump(best_svm_model, 'best_svm_model.pkl')"
   ],
   "metadata": {
    "collapsed": false
   },
   "id": "f2719539e868c361"
  },
  {
   "cell_type": "markdown",
   "source": [
    "## Random Forest"
   ],
   "metadata": {
    "collapsed": false
   },
   "id": "6ab7be07e9dfed26"
  },
  {
   "cell_type": "code",
   "outputs": [],
   "source": [
    "def rf_objective(trial):\n",
    "    # Define the hyperparameter search space\n",
    "    n_estimators = trial.suggest_int('n_estimators', 10, 200)\n",
    "    max_depth = trial.suggest_int('max_depth', 1, 50)\n",
    "    min_samples_split = trial.suggest_int('min_samples_split', 2, 20)\n",
    "    min_samples_leaf = trial.suggest_int('min_samples_leaf', 1, 20)\n",
    "\n",
    "    # Create the Random Forest model with the suggested hyperparameters\n",
    "    model = RandomForestClassifier(n_estimators=n_estimators, max_depth=max_depth,\n",
    "                                   min_samples_split=min_samples_split, min_samples_leaf=min_samples_leaf)\n",
    "\n",
    "    # Fit the model on the training data\n",
    "    model.fit(X_train, y_train.values.ravel())\n",
    "\n",
    "    # Make predictions on the test data\n",
    "    y_pred = model.predict(X_test)\n",
    "\n",
    "    # Calculate the F1 score\n",
    "    return f1_score(y_test, y_pred, average='macro')"
   ],
   "metadata": {
    "collapsed": false
   },
   "id": "c3f686e756acf481"
  },
  {
   "cell_type": "code",
   "outputs": [],
   "source": [
    "# Create a study object and optimize the objective function\n",
    "rf_study = optuna.create_study(direction='maximize')\n",
    "rf_study.optimize(rf_objective, n_trials=10)"
   ],
   "metadata": {
    "collapsed": false,
    "ExecuteTime": {
     "start_time": "2025-05-01T19:59:00.778606Z"
    }
   },
   "id": "163fb868e79d7864"
  },
  {
   "cell_type": "code",
   "outputs": [],
   "source": [
    "# Print the best hyperparameters and the corresponding F1 score\n",
    "print(\"Best hyperparameters: \", rf_study.best_params)\n",
    "print(\"Best F1 score: \", rf_study.best_value)"
   ],
   "metadata": {
    "collapsed": false
   },
   "id": "bcbb209e67cc100b"
  },
  {
   "cell_type": "code",
   "outputs": [],
   "source": [
    "# Visualize optuna results\n",
    "optuna_visualizations(rf_study, \"Random Forest\", [\"n_estimators\", \"max_depth\", \"min_samples_split\", \"min_samples_leaf\"])"
   ],
   "metadata": {
    "collapsed": false,
    "ExecuteTime": {
     "start_time": "2025-05-01T19:59:00.784142Z"
    }
   },
   "id": "682c88ba86431c2d"
  },
  {
   "cell_type": "code",
   "outputs": [],
   "source": [
    "# Run the Random Forest model with the best hyperparameters\n",
    "best_rf_model = RandomForestClassifier(**rf_study.best_params)\n",
    "y_pred, y_proba = run_model(best_rf_model, X_train, y_train, X_test, y_test)"
   ],
   "metadata": {
    "collapsed": false
   },
   "id": "b0edcbde4582bb9c"
  },
  {
   "cell_type": "code",
   "outputs": [],
   "source": [
    "# Plot confusion matrix\n",
    "confusion_matrix_plot(y_test, y_pred, \"Confusion Matrix for Random Forest\")"
   ],
   "metadata": {
    "collapsed": false
   },
   "id": "9972035857ca27df"
  },
  {
   "cell_type": "code",
   "outputs": [],
   "source": [
    "# Plot ROC curve\n",
    "roc_curve_plot(y_test, y_proba, \"ROC Curve for Random Forest\")"
   ],
   "metadata": {
    "collapsed": false
   },
   "id": "b920ddf6010ea31b"
  },
  {
   "cell_type": "code",
   "outputs": [],
   "source": [
    "# Save the model\n",
    "joblib.dump(best_rf_model, 'best_rf_model.pkl')"
   ],
   "metadata": {
    "collapsed": false
   },
   "id": "27ba61dfd05dd6bb"
  },
  {
   "cell_type": "markdown",
   "source": [
    "## K-Nearest Neighbors (KNN)"
   ],
   "metadata": {
    "collapsed": false
   },
   "id": "32a65afa6d3d9c1"
  },
  {
   "cell_type": "code",
   "outputs": [],
   "source": [
    "def knn_objective(trial):\n",
    "    # Define the hyperparameter search space\n",
    "    n_neighbors = trial.suggest_int('n_neighbors', 1, 50)\n",
    "    weights = trial.suggest_categorical('weights', ['uniform', 'distance'])\n",
    "    algorithm = trial.suggest_categorical('algorithm', ['auto', 'ball_tree', 'kd_tree', 'brute'])\n",
    "\n",
    "    # Create the KNN model with the suggested hyperparameters\n",
    "    model = KNeighborsClassifier(n_neighbors=n_neighbors, weights=weights, algorithm=algorithm)\n",
    "\n",
    "    # Fit the model on the training data\n",
    "    model.fit(X_train, y_train.values.ravel())\n",
    "\n",
    "    # Make predictions on the test data\n",
    "    y_pred = model.predict(X_test)\n",
    "\n",
    "    # Calculate the F1 score\n",
    "    return f1_score(y_test, y_pred, average='macro')"
   ],
   "metadata": {
    "collapsed": false
   },
   "id": "698841fbd0fe96f3"
  },
  {
   "cell_type": "code",
   "outputs": [],
   "source": [
    "# Create a study object and optimize the objective function\n",
    "knn_study = optuna.create_study(direction='maximize')\n",
    "knn_study.optimize(knn_objective, n_trials=10)"
   ],
   "metadata": {
    "collapsed": false,
    "ExecuteTime": {
     "start_time": "2025-05-01T19:59:00.803209Z"
    }
   },
   "id": "38dc5d7e579dc483"
  },
  {
   "cell_type": "code",
   "outputs": [],
   "source": [
    "# Print the best hyperparameters and the corresponding F1 score\n",
    "print(\"Best hyperparameters: \", knn_study.best_params)\n",
    "print(\"Best F1 score: \", knn_study.best_value)"
   ],
   "metadata": {
    "collapsed": false,
    "ExecuteTime": {
     "start_time": "2025-05-01T19:59:00.805220Z"
    }
   },
   "id": "f739fb29b4646ac5"
  },
  {
   "cell_type": "code",
   "outputs": [],
   "source": [
    "# Visualize optuna results\n",
    "optuna_visualizations(knn_study, \"KNN\", [\"n_neighbors\", \"weights\", \"algorithm\"])"
   ],
   "metadata": {
    "collapsed": false,
    "ExecuteTime": {
     "start_time": "2025-05-01T19:59:00.807216Z"
    }
   },
   "id": "b16bd5b6946adc33"
  },
  {
   "cell_type": "code",
   "outputs": [],
   "source": [
    "# Run the KNN model with the best hyperparameters\n",
    "best_knn_model = KNeighborsClassifier(**knn_study.best_params)\n",
    "y_pred, y_proba = run_model(best_knn_model, X_train, y_train, X_test, y_test)"
   ],
   "metadata": {
    "collapsed": false,
    "ExecuteTime": {
     "start_time": "2025-05-01T19:59:00.808217Z"
    }
   },
   "id": "ebfc9858ef7b49be"
  },
  {
   "cell_type": "code",
   "outputs": [],
   "source": [
    "# Plot confusion matrix\n",
    "confusion_matrix_plot(y_test, y_pred, \"Confusion Matrix for KNN\")"
   ],
   "metadata": {
    "collapsed": false,
    "ExecuteTime": {
     "start_time": "2025-05-01T19:59:00.810217Z"
    }
   },
   "id": "92cb2727b0fc028b"
  },
  {
   "cell_type": "code",
   "outputs": [],
   "source": [
    "# Plot ROC curve\n",
    "roc_curve_plot(y_test, y_proba, \"ROC Curve for KNN\")"
   ],
   "metadata": {
    "collapsed": false
   },
   "id": "cf7737521b1152ed"
  },
  {
   "cell_type": "code",
   "outputs": [],
   "source": [
    "# Save the model\n",
    "joblib.dump(best_knn_model, 'best_knn_model.pkl')"
   ],
   "metadata": {
    "collapsed": false,
    "ExecuteTime": {
     "start_time": "2025-05-01T19:59:00.814735Z"
    }
   },
   "id": "8b0d7f7278bcc42b"
  }
 ],
 "metadata": {
  "kernelspec": {
   "display_name": "Python 3",
   "language": "python",
   "name": "python3"
  },
  "language_info": {
   "codemirror_mode": {
    "name": "ipython",
    "version": 2
   },
   "file_extension": ".py",
   "mimetype": "text/x-python",
   "name": "python",
   "nbconvert_exporter": "python",
   "pygments_lexer": "ipython2",
   "version": "2.7.6"
  }
 },
 "nbformat": 4,
 "nbformat_minor": 5
}
