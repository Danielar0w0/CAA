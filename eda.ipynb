{
 "cells": [
  {
   "cell_type": "markdown",
   "source": [
    "# Fall Detection using SisFall Dataset\n",
    "Daniela Dias, nMec 98039"
   ],
   "metadata": {
    "collapsed": false
   },
   "id": "d5efdf5099a52e39"
  },
  {
   "cell_type": "code",
   "outputs": [],
   "source": [
    "import os\n",
    "import pandas as pd\n",
    "import matplotlib.pyplot as plt\n",
    "import seaborn as sns"
   ],
   "metadata": {
    "collapsed": false,
    "ExecuteTime": {
     "end_time": "2025-05-01T18:45:13.457618Z",
     "start_time": "2025-05-01T18:45:13.453600Z"
    }
   },
   "id": "cea011e5d124cd69",
   "execution_count": 67
  },
  {
   "cell_type": "markdown",
   "source": [
    "## Utility functions for SisFall dataset\n",
    "\n",
    "**ADXL345**\n",
    "Resolution: 13 bits\n",
    "Range: +-16g\n",
    "\n",
    "**ITG3200**\n",
    "Resolution: 16 bits\n",
    "Range: +-2000?s\n",
    "\n",
    "**MMA8451Q**\n",
    "Resolution: 14 bits\n",
    "Range: +-8g"
   ],
   "metadata": {
    "collapsed": false
   },
   "id": "b988a53af7a3972a"
  },
  {
   "cell_type": "code",
   "outputs": [],
   "source": [
    "ACCEL_ADXL345_RANGE = 16  # ±16g\n",
    "ACCEL_ADXL345_RES = 13\n",
    "\n",
    "GYRO_ITG3200_RANGE = 2000  # ±2000°/s\n",
    "GYRO_ITG3200_RES = 16\n",
    "\n",
    "ACCEL_MMA8451Q_RANGE = 8  # ±8g\n",
    "ACCEL_MMA8451Q_RES = 14"
   ],
   "metadata": {
    "collapsed": true,
    "ExecuteTime": {
     "end_time": "2025-05-01T18:45:13.693009Z",
     "start_time": "2025-05-01T18:45:13.687630Z"
    }
   },
   "id": "initial_id",
   "execution_count": 68
  },
  {
   "cell_type": "code",
   "outputs": [],
   "source": [
    "# Accelerometer conversion functions\n",
    "def convert_accel_adxl345(raw_bits):\n",
    "    return (2 * ACCEL_ADXL345_RANGE / (2 ** ACCEL_ADXL345_RES)) * raw_bits\n",
    "\n",
    "\n",
    "def convert_accel_mma8451q(raw_bits):\n",
    "    return (2 * ACCEL_MMA8451Q_RANGE / (2 ** ACCEL_MMA8451Q_RES)) * raw_bits"
   ],
   "metadata": {
    "collapsed": false,
    "ExecuteTime": {
     "end_time": "2025-05-01T18:45:13.710750Z",
     "start_time": "2025-05-01T18:45:13.705543Z"
    }
   },
   "id": "b38d14554d591bd6",
   "execution_count": 69
  },
  {
   "cell_type": "code",
   "outputs": [],
   "source": [
    "# Gyroscope conversion function\n",
    "def convert_gyro_itg3200(raw_bits):\n",
    "    return (2 * GYRO_ITG3200_RANGE / (2 ** GYRO_ITG3200_RES)) * raw_bits"
   ],
   "metadata": {
    "collapsed": false,
    "ExecuteTime": {
     "end_time": "2025-05-01T18:45:13.742735Z",
     "start_time": "2025-05-01T18:45:13.738843Z"
    }
   },
   "id": "e2456ac019ee94db",
   "execution_count": 70
  },
  {
   "cell_type": "code",
   "outputs": [],
   "source": [
    "# Labeling function\n",
    "def get_label_from_filename(filename):\n",
    "    if filename.startswith('F'):\n",
    "        return 'fall'\n",
    "    elif filename.startswith('D'):\n",
    "        return 'adl'\n",
    "    else:\n",
    "        return 'unknown'"
   ],
   "metadata": {
    "collapsed": false,
    "ExecuteTime": {
     "end_time": "2025-05-01T18:45:13.876555Z",
     "start_time": "2025-05-01T18:45:13.871007Z"
    }
   },
   "id": "7d161e6ce8244a2c",
   "execution_count": 71
  },
  {
   "cell_type": "markdown",
   "source": [
    "## Load SisFall dataset\n",
    "\n",
    "The SisFall dataset consists of time-series data from three sensors: ADXL345 accelerometer, ITG3200 gyroscope, and MMA8451Q accelerometer. The data is recorded in text files, with each file containing multiple lines of sensor readings. Each line represents a single sample with the following format:\n",
    "    \n",
    "*<accel_adxl345_x>,<accel_adxl345_y>,<accel_adxl345_z>,\n",
    "<gyro_itg3200_x>,<gyro_itg3200_y>,<gyro_itg3200_z>,\n",
    "<accel_mma8451q_x>,<accel_mma8451q_y>,<accel_mma8451q_z>;*\n",
    "\n",
    "The dataset is organized into folders for each subject, with each folder containing multiple text files. The filenames indicate the type of activity (fall or activities of daily living), the subject ID and the trial. We treat each trial as an independent sample.\n",
    "\n",
    "\n",
    "The following code loads the SisFall dataset, converts the raw sensor data into numerical features, and labels the samples based on the filenames. The dataset is then saved as a CSV file for further analysis."
   ],
   "metadata": {
    "collapsed": false
   },
   "id": "c6fd45a9ae4466ed"
  },
  {
   "cell_type": "code",
   "outputs": [],
   "source": [
    "# Load single file\n",
    "def load_sisfall_file(filepath):\n",
    "    raw_data = pd.read_csv(filepath, header=None, sep=',')\n",
    "\n",
    "    # Remove trailing semicolon from each element\n",
    "    raw_data = raw_data.map(lambda x: float(x.rstrip(';')) if isinstance(x, str) else x)\n",
    "\n",
    "    data_converted = pd.DataFrame({\n",
    "        'accel_adxl345_x': convert_accel_adxl345(raw_data[0]),\n",
    "        'accel_adxl345_y': convert_accel_adxl345(raw_data[1]),\n",
    "        'accel_adxl345_z': convert_accel_adxl345(raw_data[2]),\n",
    "\n",
    "        'gyro_itg3200_x': convert_gyro_itg3200(raw_data[3]),\n",
    "        'gyro_itg3200_y': convert_gyro_itg3200(raw_data[4]),\n",
    "        'gyro_itg3200_z': convert_gyro_itg3200(raw_data[5]),\n",
    "\n",
    "        'accel_mma8451q_x': convert_accel_mma8451q(raw_data[6]),\n",
    "        'accel_mma8451q_y': convert_accel_mma8451q(raw_data[7]),\n",
    "        'accel_mma8451q_z': convert_accel_mma8451q(raw_data[8])\n",
    "    })\n",
    "\n",
    "    label = get_label_from_filename(os.path.basename(filepath))\n",
    "    data_converted['label'] = label\n",
    "\n",
    "    return data_converted"
   ],
   "metadata": {
    "collapsed": false,
    "ExecuteTime": {
     "end_time": "2025-05-01T18:45:13.903107Z",
     "start_time": "2025-05-01T18:45:13.895652Z"
    }
   },
   "id": "a42dd91dcb330bcb",
   "execution_count": 72
  },
  {
   "cell_type": "code",
   "outputs": [],
   "source": [
    "# Load entire dataset\n",
    "def load_sisfall_dataset(dataset_dir):\n",
    "    dataset = []\n",
    "\n",
    "    for subject_folder in os.listdir(dataset_dir):\n",
    "        subject_path = os.path.join(dataset_dir, subject_folder)\n",
    "\n",
    "        if os.path.isdir(subject_path):\n",
    "            for file in os.listdir(subject_path):\n",
    "                if (file.endswith('.txt')\n",
    "                        and (file.startswith('F') or file.startswith('D'))):\n",
    "                    # Load the file and convert the data\n",
    "                    filepath = os.path.join(subject_path, file)\n",
    "                    file_data = load_sisfall_file(filepath)\n",
    "\n",
    "                    # Add filename and subject information\n",
    "                    file_data['filename'] = file\n",
    "                    file_data['subject'] = subject_folder\n",
    "\n",
    "                    dataset.append(file_data)\n",
    "\n",
    "    # Convert the list of DataFrames to a single DataFrame\n",
    "    full_dataset = pd.concat(dataset, ignore_index=True)\n",
    "\n",
    "    return full_dataset"
   ],
   "metadata": {
    "collapsed": false,
    "ExecuteTime": {
     "end_time": "2025-05-01T18:45:13.959171Z",
     "start_time": "2025-05-01T18:45:13.951138Z"
    }
   },
   "id": "1408bbd81c26c49a",
   "execution_count": 73
  },
  {
   "cell_type": "code",
   "outputs": [],
   "source": [
    "# Load the SisFall dataset\n",
    "dataset_dir = 'SisFall_dataset'\n",
    "sisfall_data = load_sisfall_dataset(dataset_dir)\n",
    "\n",
    "# Save the dataset to a CSV file\n",
    "# sisfall_data.to_csv('sisfall_dataset.csv', index=False)"
   ],
   "metadata": {
    "collapsed": false,
    "ExecuteTime": {
     "end_time": "2025-05-01T18:47:02.643495Z",
     "start_time": "2025-05-01T18:45:13.998759Z"
    }
   },
   "id": "aa807a473353c9ed",
   "execution_count": 74
  },
  {
   "cell_type": "code",
   "outputs": [],
   "source": [
    "# Load the SisFall dataset from the CSV file\n",
    "# sisfall_data = pd.read_csv('sisfall_dataset.csv')"
   ],
   "metadata": {
    "collapsed": false,
    "ExecuteTime": {
     "end_time": "2025-05-01T18:47:02.650643Z",
     "start_time": "2025-05-01T18:47:02.645501Z"
    }
   },
   "id": "b1fc91516d435c21",
   "execution_count": 75
  },
  {
   "cell_type": "markdown",
   "source": [
    "## Exploratory Data Analysis\n",
    "\n",
    "This section provides an overview of the dataset, including its structure, distribution of labels, and basic statistics. It also visualizes the sensor data to understand its characteristics better."
   ],
   "metadata": {
    "collapsed": false
   },
   "id": "27ca1692dc9d4cde"
  },
  {
   "cell_type": "code",
   "outputs": [
    {
     "data": {
      "text/plain": "   accel_adxl345_x  accel_adxl345_y  accel_adxl345_z  gyro_itg3200_x  \\\n0         0.066406        -0.699219        -0.386719       -1.098633   \n1         0.058594        -0.679688        -0.351562       -3.234863   \n2         0.003906        -0.687500        -0.316406       -5.126953   \n3        -0.039062        -0.703125        -0.300781       -6.347656   \n4        -0.082031        -0.746094        -0.246094       -7.812500   \n\n   gyro_itg3200_y  gyro_itg3200_z  accel_mma8451q_x  accel_mma8451q_y  \\\n0      -30.761719      -21.484375          0.074219         -0.680664   \n1      -34.667969      -18.676758          0.046875         -0.659180   \n2      -37.414551      -16.540527         -0.001953         -0.652344   \n3      -39.489746      -13.854980         -0.033203         -0.680664   \n4      -41.198730      -11.657715         -0.072266         -0.723633   \n\n   accel_mma8451q_z label          filename subject  \n0         -0.272461   adl  D01_SA01_R01.txt    SA01  \n1         -0.248047   adl  D01_SA01_R01.txt    SA01  \n2         -0.215820   adl  D01_SA01_R01.txt    SA01  \n3         -0.170898   adl  D01_SA01_R01.txt    SA01  \n4         -0.129883   adl  D01_SA01_R01.txt    SA01  ",
      "text/html": "<div>\n<style scoped>\n    .dataframe tbody tr th:only-of-type {\n        vertical-align: middle;\n    }\n\n    .dataframe tbody tr th {\n        vertical-align: top;\n    }\n\n    .dataframe thead th {\n        text-align: right;\n    }\n</style>\n<table border=\"1\" class=\"dataframe\">\n  <thead>\n    <tr style=\"text-align: right;\">\n      <th></th>\n      <th>accel_adxl345_x</th>\n      <th>accel_adxl345_y</th>\n      <th>accel_adxl345_z</th>\n      <th>gyro_itg3200_x</th>\n      <th>gyro_itg3200_y</th>\n      <th>gyro_itg3200_z</th>\n      <th>accel_mma8451q_x</th>\n      <th>accel_mma8451q_y</th>\n      <th>accel_mma8451q_z</th>\n      <th>label</th>\n      <th>filename</th>\n      <th>subject</th>\n    </tr>\n  </thead>\n  <tbody>\n    <tr>\n      <th>0</th>\n      <td>0.066406</td>\n      <td>-0.699219</td>\n      <td>-0.386719</td>\n      <td>-1.098633</td>\n      <td>-30.761719</td>\n      <td>-21.484375</td>\n      <td>0.074219</td>\n      <td>-0.680664</td>\n      <td>-0.272461</td>\n      <td>adl</td>\n      <td>D01_SA01_R01.txt</td>\n      <td>SA01</td>\n    </tr>\n    <tr>\n      <th>1</th>\n      <td>0.058594</td>\n      <td>-0.679688</td>\n      <td>-0.351562</td>\n      <td>-3.234863</td>\n      <td>-34.667969</td>\n      <td>-18.676758</td>\n      <td>0.046875</td>\n      <td>-0.659180</td>\n      <td>-0.248047</td>\n      <td>adl</td>\n      <td>D01_SA01_R01.txt</td>\n      <td>SA01</td>\n    </tr>\n    <tr>\n      <th>2</th>\n      <td>0.003906</td>\n      <td>-0.687500</td>\n      <td>-0.316406</td>\n      <td>-5.126953</td>\n      <td>-37.414551</td>\n      <td>-16.540527</td>\n      <td>-0.001953</td>\n      <td>-0.652344</td>\n      <td>-0.215820</td>\n      <td>adl</td>\n      <td>D01_SA01_R01.txt</td>\n      <td>SA01</td>\n    </tr>\n    <tr>\n      <th>3</th>\n      <td>-0.039062</td>\n      <td>-0.703125</td>\n      <td>-0.300781</td>\n      <td>-6.347656</td>\n      <td>-39.489746</td>\n      <td>-13.854980</td>\n      <td>-0.033203</td>\n      <td>-0.680664</td>\n      <td>-0.170898</td>\n      <td>adl</td>\n      <td>D01_SA01_R01.txt</td>\n      <td>SA01</td>\n    </tr>\n    <tr>\n      <th>4</th>\n      <td>-0.082031</td>\n      <td>-0.746094</td>\n      <td>-0.246094</td>\n      <td>-7.812500</td>\n      <td>-41.198730</td>\n      <td>-11.657715</td>\n      <td>-0.072266</td>\n      <td>-0.723633</td>\n      <td>-0.129883</td>\n      <td>adl</td>\n      <td>D01_SA01_R01.txt</td>\n      <td>SA01</td>\n    </tr>\n  </tbody>\n</table>\n</div>"
     },
     "execution_count": 76,
     "metadata": {},
     "output_type": "execute_result"
    }
   ],
   "source": [
    "# Check the first few rows of the dataset\n",
    "sisfall_data.head()"
   ],
   "metadata": {
    "collapsed": false,
    "ExecuteTime": {
     "end_time": "2025-05-01T18:47:02.678345Z",
     "start_time": "2025-05-01T18:47:02.654727Z"
    }
   },
   "id": "ddfc447706931d28",
   "execution_count": 76
  },
  {
   "cell_type": "code",
   "outputs": [
    {
     "data": {
      "text/plain": "(15858929, 12)"
     },
     "execution_count": 77,
     "metadata": {},
     "output_type": "execute_result"
    }
   ],
   "source": [
    "# Check the shape of the dataset\n",
    "sisfall_data.shape"
   ],
   "metadata": {
    "collapsed": false,
    "ExecuteTime": {
     "end_time": "2025-05-01T18:47:02.687039Z",
     "start_time": "2025-05-01T18:47:02.680859Z"
    }
   },
   "id": "b3f380658e04fdee",
   "execution_count": 77
  },
  {
   "cell_type": "code",
   "outputs": [
    {
     "name": "stdout",
     "output_type": "stream",
     "text": [
      "Distribution of labels per file:\n",
      "label\n",
      "adl     2702\n",
      "fall    1798\n",
      "Name: count, dtype: int64\n",
      "adl: 2702 files (60.04%)\n",
      "fall: 1798 files (39.96%)\n"
     ]
    },
    {
     "data": {
      "text/plain": "<Figure size 800x500 with 1 Axes>",
      "image/png": "[encoded data removed]"
     },
     "metadata": {},
     "output_type": "display_data"
    }
   ],
   "source": [
    "# Check the distribution of labels per file\n",
    "file_label_counts = sisfall_data[['filename', 'label']].drop_duplicates()['label'].value_counts()\n",
    "\n",
    "# Print the distribution of labels per file\n",
    "print(\"Distribution of labels per file:\")\n",
    "print(file_label_counts)\n",
    "\n",
    "# Print the percentage of each label\n",
    "total_files = file_label_counts.sum()\n",
    "for label, count in file_label_counts.items():\n",
    "    percentage = (count / total_files) * 100\n",
    "    print(f\"{label}: {count} files ({percentage:.2f}%)\")\n",
    "\n",
    "plt.figure(figsize=(8, 5))\n",
    "sns.barplot(x=file_label_counts.index, y=file_label_counts.values)\n",
    "plt.title('Distribution of Labels per File in SisFall Dataset')\n",
    "plt.xlabel('Label')\n",
    "plt.ylabel('Number of Files')\n",
    "plt.xticks(rotation=45)\n",
    "plt.show()"
   ],
   "metadata": {
    "collapsed": false,
    "ExecuteTime": {
     "end_time": "2025-05-01T18:47:06.270879Z",
     "start_time": "2025-05-01T18:47:02.689049Z"
    }
   },
   "id": "d1f08a4c13940462",
   "execution_count": 78
  },
  {
   "cell_type": "code",
   "outputs": [
    {
     "name": "stdout",
     "output_type": "stream",
     "text": [
      "Distribution of labels:\n",
      "label\n",
      "adl     10465215\n",
      "fall     5393714\n",
      "Name: count, dtype: int64\n",
      "adl: 10465215 samples (65.99%)\n",
      "fall: 5393714 samples (34.01%)\n"
     ]
    },
    {
     "data": {
      "text/plain": "<Figure size 800x500 with 1 Axes>",
      "image/png": "[encoded data removed]"
     },
     "metadata": {},
     "output_type": "display_data"
    }
   ],
   "source": [
    "# Check the distribution of labels\n",
    "label_counts = sisfall_data['label'].value_counts()\n",
    "\n",
    "# Print the distribution of labels\n",
    "print(\"Distribution of labels:\")\n",
    "print(label_counts)\n",
    "\n",
    "# Print the percentage of each label\n",
    "total_samples = label_counts.sum()\n",
    "for label, count in label_counts.items():\n",
    "    percentage = (count / total_samples) * 100\n",
    "    print(f\"{label}: {count} samples ({percentage:.2f}%)\")\n",
    "\n",
    "plt.figure(figsize=(8, 5))\n",
    "sns.barplot(x=label_counts.index, y=label_counts.values)\n",
    "plt.title('Distribution of Labels in SisFall Dataset')\n",
    "plt.xlabel('Label')\n",
    "plt.ylabel('Count')\n",
    "plt.xticks(rotation=45)\n",
    "plt.show()"
   ],
   "metadata": {
    "collapsed": false,
    "ExecuteTime": {
     "end_time": "2025-05-01T18:47:07.200993Z",
     "start_time": "2025-05-01T18:47:06.271884Z"
    }
   },
   "id": "d5f20c8bb82e745",
   "execution_count": 79
  },
  {
   "cell_type": "code",
   "outputs": [
    {
     "data": {
      "text/plain": "Series([], dtype: int64)"
     },
     "execution_count": 80,
     "metadata": {},
     "output_type": "execute_result"
    }
   ],
   "source": [
    "# Check for missing values\n",
    "missing_values = sisfall_data.isnull().sum()\n",
    "missing_values[missing_values > 0]"
   ],
   "metadata": {
    "collapsed": false,
    "ExecuteTime": {
     "end_time": "2025-05-01T18:47:09.075113Z",
     "start_time": "2025-05-01T18:47:07.203026Z"
    }
   },
   "id": "c896602f104fa58f",
   "execution_count": 80
  },
  {
   "cell_type": "code",
   "outputs": [
    {
     "data": {
      "text/plain": "accel_adxl345_x     float64\naccel_adxl345_y     float64\naccel_adxl345_z     float64\ngyro_itg3200_x      float64\ngyro_itg3200_y      float64\ngyro_itg3200_z      float64\naccel_mma8451q_x    float64\naccel_mma8451q_y    float64\naccel_mma8451q_z    float64\nlabel                object\nfilename             object\nsubject              object\ndtype: object"
     },
     "execution_count": 81,
     "metadata": {},
     "output_type": "execute_result"
    }
   ],
   "source": [
    "# Check the data types of the columns\n",
    "sisfall_data.dtypes"
   ],
   "metadata": {
    "collapsed": false,
    "ExecuteTime": {
     "end_time": "2025-05-01T18:47:09.088125Z",
     "start_time": "2025-05-01T18:47:09.080858Z"
    }
   },
   "id": "ee9f0832e967294e",
   "execution_count": 81
  },
  {
   "cell_type": "code",
   "outputs": [
    {
     "data": {
      "text/plain": "       accel_adxl345_x  accel_adxl345_y  accel_adxl345_z  gyro_itg3200_x  \\\ncount     1.585893e+07     1.585893e+07     1.585893e+07    1.585893e+07   \nmean     -4.832774e-03    -6.982077e-01    -1.083005e-01   -5.929070e-01   \nstd       4.101803e-01     5.856842e-01     4.878332e-01    3.606290e+01   \nmin      -1.600000e+01    -1.600000e+01    -1.600000e+01   -1.971619e+03   \n25%      -8.593750e-02    -9.882812e-01    -3.593750e-01   -4.638672e+00   \n50%       7.812500e-03    -8.984375e-01    -1.210938e-01   -6.713867e-01   \n75%       1.015625e-01    -2.109375e-01     1.289062e-01    3.967285e+00   \nmax       1.599219e+01     1.598438e+01     1.598047e+01    1.999939e+03   \n\n       gyro_itg3200_y  gyro_itg3200_z  accel_mma8451q_x  accel_mma8451q_y  \\\ncount    1.585893e+07    1.585893e+07      1.585893e+07      1.585893e+07   \nmean     2.146792e+00   -2.725448e-01     -1.844993e-02     -6.840996e-01   \nstd      2.987677e+01    2.430040e+01      3.990512e-01      5.690894e-01   \nmin     -9.454956e+02   -8.026123e+02     -8.000000e+00     -8.000000e+00   \n25%     -1.098633e+00   -2.014160e+00     -9.472656e-02     -9.667969e-01   \n50%      2.319336e+00   -3.051758e-01      9.765625e-04     -8.837891e-01   \n75%      5.737305e+00    1.403809e+00      8.007812e-02     -2.041016e-01   \nmax      9.655151e+02    8.421631e+02      7.999023e+00      7.999023e+00   \n\n       accel_mma8451q_z  \ncount      1.585893e+07  \nmean      -5.797724e-02  \nstd        4.942543e-01  \nmin       -8.000000e+00  \n25%       -3.095703e-01  \n50%       -6.640625e-02  \n75%        1.806641e-01  \nmax        7.999023e+00  ",
      "text/html": "<div>\n<style scoped>\n    .dataframe tbody tr th:only-of-type {\n        vertical-align: middle;\n    }\n\n    .dataframe tbody tr th {\n        vertical-align: top;\n    }\n\n    .dataframe thead th {\n        text-align: right;\n    }\n</style>\n<table border=\"1\" class=\"dataframe\">\n  <thead>\n    <tr style=\"text-align: right;\">\n      <th></th>\n      <th>accel_adxl345_x</th>\n      <th>accel_adxl345_y</th>\n      <th>accel_adxl345_z</th>\n      <th>gyro_itg3200_x</th>\n      <th>gyro_itg3200_y</th>\n      <th>gyro_itg3200_z</th>\n      <th>accel_mma8451q_x</th>\n      <th>accel_mma8451q_y</th>\n      <th>accel_mma8451q_z</th>\n    </tr>\n  </thead>\n  <tbody>\n    <tr>\n      <th>count</th>\n      <td>1.585893e+07</td>\n      <td>1.585893e+07</td>\n      <td>1.585893e+07</td>\n      <td>1.585893e+07</td>\n      <td>1.585893e+07</td>\n      <td>1.585893e+07</td>\n      <td>1.585893e+07</td>\n      <td>1.585893e+07</td>\n      <td>1.585893e+07</td>\n    </tr>\n    <tr>\n      <th>mean</th>\n      <td>-4.832774e-03</td>\n      <td>-6.982077e-01</td>\n      <td>-1.083005e-01</td>\n      <td>-5.929070e-01</td>\n      <td>2.146792e+00</td>\n      <td>-2.725448e-01</td>\n      <td>-1.844993e-02</td>\n      <td>-6.840996e-01</td>\n      <td>-5.797724e-02</td>\n    </tr>\n    <tr>\n      <th>std</th>\n      <td>4.101803e-01</td>\n      <td>5.856842e-01</td>\n      <td>4.878332e-01</td>\n      <td>3.606290e+01</td>\n      <td>2.987677e+01</td>\n      <td>2.430040e+01</td>\n      <td>3.990512e-01</td>\n      <td>5.690894e-01</td>\n      <td>4.942543e-01</td>\n    </tr>\n    <tr>\n      <th>min</th>\n      <td>-1.600000e+01</td>\n      <td>-1.600000e+01</td>\n      <td>-1.600000e+01</td>\n      <td>-1.971619e+03</td>\n      <td>-9.454956e+02</td>\n      <td>-8.026123e+02</td>\n      <td>-8.000000e+00</td>\n      <td>-8.000000e+00</td>\n      <td>-8.000000e+00</td>\n    </tr>\n    <tr>\n      <th>25%</th>\n      <td>-8.593750e-02</td>\n      <td>-9.882812e-01</td>\n      <td>-3.593750e-01</td>\n      <td>-4.638672e+00</td>\n      <td>-1.098633e+00</td>\n      <td>-2.014160e+00</td>\n      <td>-9.472656e-02</td>\n      <td>-9.667969e-01</td>\n      <td>-3.095703e-01</td>\n    </tr>\n    <tr>\n      <th>50%</th>\n      <td>7.812500e-03</td>\n      <td>-8.984375e-01</td>\n      <td>-1.210938e-01</td>\n      <td>-6.713867e-01</td>\n      <td>2.319336e+00</td>\n      <td>-3.051758e-01</td>\n      <td>9.765625e-04</td>\n      <td>-8.837891e-01</td>\n      <td>-6.640625e-02</td>\n    </tr>\n    <tr>\n      <th>75%</th>\n      <td>1.015625e-01</td>\n      <td>-2.109375e-01</td>\n      <td>1.289062e-01</td>\n      <td>3.967285e+00</td>\n      <td>5.737305e+00</td>\n      <td>1.403809e+00</td>\n      <td>8.007812e-02</td>\n      <td>-2.041016e-01</td>\n      <td>1.806641e-01</td>\n    </tr>\n    <tr>\n      <th>max</th>\n      <td>1.599219e+01</td>\n      <td>1.598438e+01</td>\n      <td>1.598047e+01</td>\n      <td>1.999939e+03</td>\n      <td>9.655151e+02</td>\n      <td>8.421631e+02</td>\n      <td>7.999023e+00</td>\n      <td>7.999023e+00</td>\n      <td>7.999023e+00</td>\n    </tr>\n  </tbody>\n</table>\n</div>"
     },
     "execution_count": 82,
     "metadata": {},
     "output_type": "execute_result"
    }
   ],
   "source": [
    "# Check the summary statistics of the dataset\n",
    "sisfall_data.describe()"
   ],
   "metadata": {
    "collapsed": false,
    "ExecuteTime": {
     "end_time": "2025-05-01T18:47:17.684890Z",
     "start_time": "2025-05-01T18:47:09.089135Z"
    }
   },
   "id": "56d2ed7c652c746b",
   "execution_count": 82
  },
  {
   "cell_type": "code",
   "outputs": [],
   "source": [
    "# Visualize the distribution of accelerometer and gyroscope data\n",
    "def plot_sensor_data_distribution(data, sensor):\n",
    "    plt.figure(figsize=(12, 6))\n",
    "    sns.histplot(data[sensor], bins=50, kde=True)\n",
    "    plt.title(f'Distribution of {sensor} Data')\n",
    "    plt.xlabel(sensor)\n",
    "    plt.ylabel('Frequency')\n",
    "    plt.show()\n",
    "\n",
    "\n",
    "# Plot accelerometer data\n",
    "# accel_columns = [col for col in sisfall_data.columns if 'accel' in col]\n",
    "# for col in accel_columns:\n",
    "#     plot_sensor_data_distribution(sisfall_data, col)\n",
    "# \n",
    "# # Plot gyroscope data\n",
    "# gyro_columns = [col for col in sisfall_data.columns if 'gyro' in col]\n",
    "# for col in gyro_columns:\n",
    "#     plot_sensor_data_distribution(sisfall_data, col)"
   ],
   "metadata": {
    "collapsed": false,
    "ExecuteTime": {
     "end_time": "2025-05-01T18:47:17.701820Z",
     "start_time": "2025-05-01T18:47:17.688888Z"
    }
   },
   "id": "733ddf1d914bcf8a",
   "execution_count": 83
  },
  {
   "cell_type": "code",
   "outputs": [],
   "source": [
    "# Visualize the previous plots as subplots\n",
    "def plot_sensor_data_distribution_subplots(data, sensor_columns):\n",
    "    num_columns = len(sensor_columns)\n",
    "    num_rows = (num_columns + 1) // 3\n",
    "\n",
    "    fig, axes = plt.subplots(num_rows, 3, figsize=(12, 6 * num_rows))\n",
    "    axes = axes.flatten()\n",
    "\n",
    "    for i, col in enumerate(sensor_columns):\n",
    "        sns.histplot(data[col], bins=50, kde=True, ax=axes[i])\n",
    "        axes[i].set_title(f'Distribution of {col} Data')\n",
    "        axes[i].set_xlabel(col)\n",
    "        axes[i].set_ylabel('Frequency')\n",
    "\n",
    "    plt.tight_layout()\n",
    "    plt.show()\n",
    "    \n",
    "# # Plot accelerometer data\n",
    "# plot_sensor_data_distribution_subplots(sisfall_data, accel_columns)\n",
    "# \n",
    "# # Plot gyroscope data\n",
    "# plot_sensor_data_distribution_subplots(sisfall_data, gyro_columns)"
   ],
   "metadata": {
    "collapsed": false,
    "ExecuteTime": {
     "end_time": "2025-05-01T18:47:17.712976Z",
     "start_time": "2025-05-01T18:47:17.706362Z"
    }
   },
   "id": "51c859dca0b4179e",
   "execution_count": 84
  },
  {
   "cell_type": "code",
   "outputs": [],
   "source": [
    "# Visualize the time series data for a sample fall and ADL\n",
    "def plot_time_series(data, label):\n",
    "    plt.figure(figsize=(15, 8))\n",
    "    for col in data.columns:\n",
    "        if 'accel' in col or 'gyro' in col:\n",
    "            plt.plot(data[col], label=col)\n",
    "    plt.title(f'Time Series Data for {label}')\n",
    "    plt.xlabel('Time')\n",
    "    plt.ylabel('Sensor Value')\n",
    "    plt.legend()\n",
    "    plt.show()\n",
    "\n",
    "\n",
    "# # Plot time series for a sample fall\n",
    "# fall_sample = sisfall_data[sisfall_data['label'] == 'fall'].iloc[0]\n",
    "# fall_data = sisfall_data[sisfall_data['filename'] == fall_sample['filename']]\n",
    "# plot_time_series(fall_data, 'Fall Sample')\n",
    "# \n",
    "# # Plot time series for a sample ADL\n",
    "# adl_sample = sisfall_data[sisfall_data['label'] == 'adl'].iloc[0]\n",
    "# adl_data = sisfall_data[sisfall_data['filename'] == adl_sample['filename']]\n",
    "# plot_time_series(adl_data, 'ADL Sample')"
   ],
   "metadata": {
    "collapsed": false,
    "ExecuteTime": {
     "end_time": "2025-05-01T18:47:17.724534Z",
     "start_time": "2025-05-01T18:47:17.715907Z"
    }
   },
   "id": "bd15b7ead14f74cc",
   "execution_count": 85
  },
  {
   "cell_type": "markdown",
   "source": [
    "## Reducing the dataset\n",
    "\n",
    "The SisFall dataset is quite large, with many samples. To speed up the training process, we can reduce the dataset size by selecting a subset of samples. In this case, we want a selection that preserves the original distribution of fall and ADL recordings across subjects. The full dataset consists of:\n",
    "\n",
    "- 23 adult subjects (SA01–SA23), each with ~154 files\n",
    "- 15 elderly subjects (SE01–SE15), mostly with ~59 files (except SE06 with 154)\n",
    "\n",
    "The global fall-to-ADL ratio is approximately 40% fall and 60% ADL. To preserve this behavior in a smaller subset, we can choose:\n",
    "\n",
    "- A few adults with complete fall + ADL scenarios\n",
    "- A mix of elderly participants who mostly simulate ADLs\n",
    "\n",
    "A good selection could be:\n",
    "\n",
    "SA01 (154 files)\n",
    "SA02 (154 files)\n",
    "SA03 (154 files)\n",
    "SA04 (154 files)\n",
    "SA05 (154 files)\n",
    "SE01 (59 files)\n",
    "SE02 (59 files)\n",
    "SE03 (59 files)\n",
    "SE06 (154 files)\n",
    "SE07 (59 files)"
   ],
   "metadata": {
    "collapsed": false
   },
   "id": "fce4c1dee36c73d6"
  },
  {
   "cell_type": "code",
   "outputs": [],
   "source": [
    "# Select the subjects to keep\n",
    "subjects_to_keep = [\n",
    "    'SA01', 'SA02', 'SA03', 'SA05', 'SA06',\n",
    "    'SE01', 'SE02', 'SE03', 'SE06', 'SE07'\n",
    "]\n",
    "\n",
    "# Create a new DataFrame with the selected subjects\n",
    "reduced_dataset = sisfall_data[sisfall_data['subject'].isin(subjects_to_keep)].copy()\n",
    "\n",
    "# Reset the index\n",
    "reduced_dataset.reset_index(drop=True, inplace=True)\n",
    "\n",
    "# Save the reduced dataset to a CSV file\n",
    "reduced_dataset.to_csv('sisfall_reduced_dataset.csv', index=False)"
   ],
   "metadata": {
    "collapsed": false,
    "ExecuteTime": {
     "end_time": "2025-05-01T18:48:10.999625Z",
     "start_time": "2025-05-01T18:47:17.727543Z"
    }
   },
   "id": "2421ed2c41639c31",
   "execution_count": 86
  },
  {
   "cell_type": "code",
   "outputs": [
    {
     "name": "stdout",
     "output_type": "stream",
     "text": [
      "Distribution of labels per file:\n",
      "label\n",
      "adl     699\n",
      "fall    450\n",
      "Name: count, dtype: int64\n",
      "adl: 699 files (60.84%)\n",
      "fall: 450 files (39.16%)\n"
     ]
    },
    {
     "data": {
      "text/plain": "<Figure size 800x500 with 1 Axes>",
      "image/png": "[encoded data removed]"
     },
     "metadata": {},
     "output_type": "display_data"
    }
   ],
   "source": [
    "# Check the distribution of labels per file\n",
    "file_label_counts = reduced_dataset[['filename', 'label']].drop_duplicates()['label'].value_counts()\n",
    "\n",
    "# Print the distribution of labels per file\n",
    "print(\"Distribution of labels per file:\")\n",
    "print(file_label_counts)\n",
    "\n",
    "# Print the percentage of each label\n",
    "total_files = file_label_counts.sum()\n",
    "for label, count in file_label_counts.items():\n",
    "    percentage = (count / total_files) * 100\n",
    "    print(f\"{label}: {count} files ({percentage:.2f}%)\")\n",
    "\n",
    "plt.figure(figsize=(8, 5))\n",
    "sns.barplot(x=file_label_counts.index, y=file_label_counts.values)\n",
    "plt.title('Distribution of Labels per File in SisFall Dataset')\n",
    "plt.xlabel('Label')\n",
    "plt.ylabel('Number of Files')\n",
    "plt.xticks(rotation=45)\n",
    "plt.show()"
   ],
   "metadata": {
    "collapsed": false,
    "ExecuteTime": {
     "end_time": "2025-05-01T18:48:11.765204Z",
     "start_time": "2025-05-01T18:48:11.000629Z"
    }
   },
   "id": "a5e854ce824a51a7",
   "execution_count": 87
  },
  {
   "cell_type": "code",
   "outputs": [
    {
     "name": "stdout",
     "output_type": "stream",
     "text": [
      "Distribution of labels:\n",
      "label\n",
      "adl     2751235\n",
      "fall    1349977\n",
      "Name: count, dtype: int64\n",
      "adl: 2751235 samples (67.08%)\n",
      "fall: 1349977 samples (32.92%)\n"
     ]
    },
    {
     "data": {
      "text/plain": "<Figure size 800x500 with 1 Axes>",
      "image/png": "[encoded data removed]"
     },
     "metadata": {},
     "output_type": "display_data"
    }
   ],
   "source": [
    "# Check the distribution of labels\n",
    "label_counts = reduced_dataset['label'].value_counts()\n",
    "\n",
    "# Print the distribution of labels\n",
    "print(\"Distribution of labels:\")\n",
    "print(label_counts)\n",
    "\n",
    "# Print the percentage of each label\n",
    "total_samples = label_counts.sum()\n",
    "for label, count in label_counts.items():\n",
    "    percentage = (count / total_samples) * 100\n",
    "    print(f\"{label}: {count} samples ({percentage:.2f}%)\")\n",
    "\n",
    "plt.figure(figsize=(8, 5))\n",
    "sns.barplot(x=label_counts.index, y=label_counts.values)\n",
    "plt.title('Distribution of Labels in SisFall Dataset')\n",
    "plt.xlabel('Label')\n",
    "plt.ylabel('Count')\n",
    "plt.xticks(rotation=45)\n",
    "plt.show()"
   ],
   "metadata": {
    "collapsed": false,
    "ExecuteTime": {
     "end_time": "2025-05-01T18:48:12.071025Z",
     "start_time": "2025-05-01T18:48:11.767210Z"
    }
   },
   "id": "31280c9afae106da",
   "execution_count": 88
  },
  {
   "cell_type": "markdown",
   "source": [],
   "metadata": {
    "collapsed": false
   },
   "id": "67fff0a38767d2d1"
  }
 ],
 "metadata": {
  "kernelspec": {
   "display_name": "Python 3",
   "language": "python",
   "name": "python3"
  },
  "language_info": {
   "codemirror_mode": {
    "name": "ipython",
    "version": 2
   },
   "file_extension": ".py",
   "mimetype": "text/x-python",
   "name": "python",
   "nbconvert_exporter": "python",
   "pygments_lexer": "ipython2",
   "version": "2.7.6"
  }
 },
 "nbformat": 4,
 "nbformat_minor": 5
}
