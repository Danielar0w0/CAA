{
 "cells": [
  {
   "cell_type": "markdown",
   "source": [
    "# Fall Detection using SisFall Dataset\n",
    "Daniela Dias, nMec 98039"
   ],
   "metadata": {
    "collapsed": false
   },
   "id": "558669be562d307f"
  },
  {
   "cell_type": "code",
   "outputs": [],
   "source": [
    "import os\n",
    "import pandas as pd\n",
    "import matplotlib.pyplot as plt\n",
    "import seaborn as sns"
   ],
   "metadata": {
    "collapsed": true,
    "ExecuteTime": {
     "end_time": "2025-05-03T16:09:17.967417Z",
     "start_time": "2025-05-03T16:09:17.964420Z"
    }
   },
   "id": "initial_id",
   "execution_count": 40
  },
  {
   "cell_type": "markdown",
   "source": [
    "## Utility functions for SisFall dataset\n",
    "\n",
    "**ADXL345**\n",
    "Resolution: 13 bits\n",
    "Range: +-16g\n",
    "\n",
    "**ITG3200**\n",
    "Resolution: 16 bits\n",
    "Range: +-2000?s\n",
    "\n",
    "**MMA8451Q**\n",
    "Resolution: 14 bits\n",
    "Range: +-8g"
   ],
   "metadata": {
    "collapsed": false
   },
   "id": "cf085db11cda992"
  },
  {
   "cell_type": "code",
   "outputs": [],
   "source": [
    "ACCEL_ADXL345_RANGE = 16  # ±16g\n",
    "ACCEL_ADXL345_RES = 13\n",
    "\n",
    "GYRO_ITG3200_RANGE = 2000  # ±2000°/s\n",
    "GYRO_ITG3200_RES = 16\n",
    "\n",
    "ACCEL_MMA8451Q_RANGE = 8  # ±8g\n",
    "ACCEL_MMA8451Q_RES = 14"
   ],
   "metadata": {
    "collapsed": false,
    "ExecuteTime": {
     "end_time": "2025-05-03T16:09:18.021289Z",
     "start_time": "2025-05-03T16:09:18.016877Z"
    }
   },
   "id": "7cee168c3efe63c",
   "execution_count": 41
  },
  {
   "cell_type": "code",
   "outputs": [],
   "source": [
    "# Accelerometer conversion functions\n",
    "def convert_accel_adxl345(raw_bits):\n",
    "    return (2 * ACCEL_ADXL345_RANGE / (2 ** ACCEL_ADXL345_RES)) * raw_bits\n",
    "\n",
    "\n",
    "def convert_accel_mma8451q(raw_bits):\n",
    "    return (2 * ACCEL_MMA8451Q_RANGE / (2 ** ACCEL_MMA8451Q_RES)) * raw_bits"
   ],
   "metadata": {
    "collapsed": false,
    "ExecuteTime": {
     "end_time": "2025-05-03T16:09:18.029299Z",
     "start_time": "2025-05-03T16:09:18.024297Z"
    }
   },
   "id": "97ceeedcda04adc7",
   "execution_count": 42
  },
  {
   "cell_type": "code",
   "outputs": [],
   "source": [
    "# Gyroscope conversion function\n",
    "def convert_gyro_itg3200(raw_bits):\n",
    "    return (2 * GYRO_ITG3200_RANGE / (2 ** GYRO_ITG3200_RES)) * raw_bits"
   ],
   "metadata": {
    "collapsed": false,
    "ExecuteTime": {
     "end_time": "2025-05-03T16:09:18.043215Z",
     "start_time": "2025-05-03T16:09:18.038068Z"
    }
   },
   "id": "8322e7c5feec336b",
   "execution_count": 43
  },
  {
   "cell_type": "code",
   "outputs": [],
   "source": [
    "# Labeling function\n",
    "def get_label_from_filename(filename):\n",
    "    if filename.startswith('F'):\n",
    "        return 'fall'\n",
    "    elif filename.startswith('D'):\n",
    "        return 'adl'\n",
    "    else:\n",
    "        return 'unknown'"
   ],
   "metadata": {
    "collapsed": false,
    "ExecuteTime": {
     "end_time": "2025-05-03T16:09:18.049727Z",
     "start_time": "2025-05-03T16:09:18.045222Z"
    }
   },
   "id": "4edb595394b60b70",
   "execution_count": 44
  },
  {
   "cell_type": "markdown",
   "source": [
    "## Reducing the dataset\n",
    "\n",
    "The SisFall dataset is an extensive collection of high-frequency time-series recordings captured from wearable inertial sensors. It comprises over 4,500 individual recordings (files), each corresponding to a unique trial of a subject's specific activity. Given the 200 Hz sampling rate and the duration of each trial, the raw dataset exceeds 15 million time steps and spans over 30 distinct activity types across 38 participants. \n",
    "\n",
    "While this breadth and density make the dataset well-suited for in-depth modeling, it also introduces considerable computational overhead, particularly during preprocessing steps such as windowing, feature extraction, and deep learning model training. This issue is further amplified when hyperparameter tuning or cross-validation is employed, leading to long runtimes and high memory consumption."
   ],
   "metadata": {
    "collapsed": false
   },
   "id": "7480639902878e4"
  },
  {
   "cell_type": "code",
   "outputs": [],
   "source": [
    "# Load single file\n",
    "def load_sisfall_file(filepath):\n",
    "    raw_data = pd.read_csv(filepath, header=None, sep=',')\n",
    "\n",
    "    # Remove trailing semicolon from each element\n",
    "    raw_data = raw_data.map(lambda x: float(x.rstrip(';')) if isinstance(x, str) else x)\n",
    "\n",
    "    data_converted = pd.DataFrame({\n",
    "        'accel_adxl345_x': convert_accel_adxl345(raw_data[0]),\n",
    "        'accel_adxl345_y': convert_accel_adxl345(raw_data[1]),\n",
    "        'accel_adxl345_z': convert_accel_adxl345(raw_data[2]),\n",
    "\n",
    "        'gyro_itg3200_x': convert_gyro_itg3200(raw_data[3]),\n",
    "        'gyro_itg3200_y': convert_gyro_itg3200(raw_data[4]),\n",
    "        'gyro_itg3200_z': convert_gyro_itg3200(raw_data[5]),\n",
    "\n",
    "        'accel_mma8451q_x': convert_accel_mma8451q(raw_data[6]),\n",
    "        'accel_mma8451q_y': convert_accel_mma8451q(raw_data[7]),\n",
    "        'accel_mma8451q_z': convert_accel_mma8451q(raw_data[8])\n",
    "    })\n",
    "\n",
    "    label = get_label_from_filename(os.path.basename(filepath))\n",
    "    data_converted['label'] = label\n",
    "\n",
    "    return data_converted"
   ],
   "metadata": {
    "collapsed": false,
    "ExecuteTime": {
     "end_time": "2025-05-03T16:09:18.071514Z",
     "start_time": "2025-05-03T16:09:18.064966Z"
    }
   },
   "id": "fb2650e83cbe6e27",
   "execution_count": 45
  },
  {
   "cell_type": "code",
   "outputs": [],
   "source": [
    "# Load entire dataset\n",
    "def load_sisfall_dataset(dataset_dir):\n",
    "    dataset = []\n",
    "\n",
    "    # Select the subjects to keep\n",
    "    subjects_to_keep = [\n",
    "        'SA01', 'SA02', 'SA03', 'SA05', 'SA06', 'SA07', 'SA08', 'SA09', 'SA10', 'SA11', 'SA12', 'SA13', 'SA14', 'SA15', 'SA16', 'SA17', 'SA18', 'SA19', 'SA20',\n",
    "        'SE01', 'SE02', 'SE03', 'SE04', 'SE05', 'SE06'\n",
    "    ]\n",
    "\n",
    "    for subject_folder in os.listdir(dataset_dir):\n",
    "        subject_path = os.path.join(dataset_dir, subject_folder)\n",
    "\n",
    "        if subject_folder not in subjects_to_keep:\n",
    "            continue\n",
    "\n",
    "        if os.path.isdir(subject_path):\n",
    "            for file in os.listdir(subject_path):\n",
    "                if (file.endswith('.txt')\n",
    "                        and (file.startswith('F') or file.startswith('D'))):\n",
    "\n",
    "                    # Check if first trial or second trial\n",
    "                    if (file.startswith('D') and 'R01' not in file) or (\"R01\" not in file and \"R02\" not in file and \"R03\" not in file):\n",
    "                        continue\n",
    "\n",
    "                    # Load the file and convert the data\n",
    "                    filepath = os.path.join(subject_path, file)\n",
    "                    file_data = load_sisfall_file(filepath)\n",
    "\n",
    "                    # Add filename and subject information\n",
    "                    file_data['filename'] = file\n",
    "                    file_data['subject'] = subject_folder\n",
    "\n",
    "                    dataset.append(file_data)\n",
    "\n",
    "    # Convert the list of DataFrames to a single DataFrame\n",
    "    full_dataset = pd.concat(dataset, ignore_index=True)\n",
    "\n",
    "    return full_dataset"
   ],
   "metadata": {
    "collapsed": false,
    "ExecuteTime": {
     "end_time": "2025-05-03T16:09:18.080033Z",
     "start_time": "2025-05-03T16:09:18.073521Z"
    }
   },
   "id": "3e6857329ddc9129",
   "execution_count": 46
  },
  {
   "cell_type": "code",
   "outputs": [],
   "source": [
    "# Load the SisFall dataset\n",
    "dataset_dir = 'SisFall_dataset'\n",
    "sisfall_data = load_sisfall_dataset(dataset_dir)"
   ],
   "metadata": {
    "collapsed": false,
    "ExecuteTime": {
     "end_time": "2025-05-03T16:09:49.624049Z",
     "start_time": "2025-05-03T16:09:18.082549Z"
    }
   },
   "id": "dfd35e5d1df60815",
   "execution_count": 47
  },
  {
   "cell_type": "code",
   "outputs": [
    {
     "data": {
      "text/plain": "(5762579, 12)"
     },
     "execution_count": 48,
     "metadata": {},
     "output_type": "execute_result"
    }
   ],
   "source": [
    "# Check the shape of the reduced dataset\n",
    "sisfall_data.shape"
   ],
   "metadata": {
    "collapsed": false,
    "ExecuteTime": {
     "end_time": "2025-05-03T16:09:49.631617Z",
     "start_time": "2025-05-03T16:09:49.626057Z"
    }
   },
   "id": "c6129d1581630957",
   "execution_count": 48
  },
  {
   "cell_type": "code",
   "outputs": [
    {
     "data": {
      "text/plain": "   accel_adxl345_x  accel_adxl345_y  accel_adxl345_z  gyro_itg3200_x  \\\n0         0.066406        -0.699219        -0.386719       -1.098633   \n1         0.058594        -0.679688        -0.351562       -3.234863   \n2         0.003906        -0.687500        -0.316406       -5.126953   \n3        -0.039062        -0.703125        -0.300781       -6.347656   \n4        -0.082031        -0.746094        -0.246094       -7.812500   \n\n   gyro_itg3200_y  gyro_itg3200_z  accel_mma8451q_x  accel_mma8451q_y  \\\n0      -30.761719      -21.484375          0.074219         -0.680664   \n1      -34.667969      -18.676758          0.046875         -0.659180   \n2      -37.414551      -16.540527         -0.001953         -0.652344   \n3      -39.489746      -13.854980         -0.033203         -0.680664   \n4      -41.198730      -11.657715         -0.072266         -0.723633   \n\n   accel_mma8451q_z label          filename subject  \n0         -0.272461   adl  D01_SA01_R01.txt    SA01  \n1         -0.248047   adl  D01_SA01_R01.txt    SA01  \n2         -0.215820   adl  D01_SA01_R01.txt    SA01  \n3         -0.170898   adl  D01_SA01_R01.txt    SA01  \n4         -0.129883   adl  D01_SA01_R01.txt    SA01  ",
      "text/html": "<div>\n<style scoped>\n    .dataframe tbody tr th:only-of-type {\n        vertical-align: middle;\n    }\n\n    .dataframe tbody tr th {\n        vertical-align: top;\n    }\n\n    .dataframe thead th {\n        text-align: right;\n    }\n</style>\n<table border=\"1\" class=\"dataframe\">\n  <thead>\n    <tr style=\"text-align: right;\">\n      <th></th>\n      <th>accel_adxl345_x</th>\n      <th>accel_adxl345_y</th>\n      <th>accel_adxl345_z</th>\n      <th>gyro_itg3200_x</th>\n      <th>gyro_itg3200_y</th>\n      <th>gyro_itg3200_z</th>\n      <th>accel_mma8451q_x</th>\n      <th>accel_mma8451q_y</th>\n      <th>accel_mma8451q_z</th>\n      <th>label</th>\n      <th>filename</th>\n      <th>subject</th>\n    </tr>\n  </thead>\n  <tbody>\n    <tr>\n      <th>0</th>\n      <td>0.066406</td>\n      <td>-0.699219</td>\n      <td>-0.386719</td>\n      <td>-1.098633</td>\n      <td>-30.761719</td>\n      <td>-21.484375</td>\n      <td>0.074219</td>\n      <td>-0.680664</td>\n      <td>-0.272461</td>\n      <td>adl</td>\n      <td>D01_SA01_R01.txt</td>\n      <td>SA01</td>\n    </tr>\n    <tr>\n      <th>1</th>\n      <td>0.058594</td>\n      <td>-0.679688</td>\n      <td>-0.351562</td>\n      <td>-3.234863</td>\n      <td>-34.667969</td>\n      <td>-18.676758</td>\n      <td>0.046875</td>\n      <td>-0.659180</td>\n      <td>-0.248047</td>\n      <td>adl</td>\n      <td>D01_SA01_R01.txt</td>\n      <td>SA01</td>\n    </tr>\n    <tr>\n      <th>2</th>\n      <td>0.003906</td>\n      <td>-0.687500</td>\n      <td>-0.316406</td>\n      <td>-5.126953</td>\n      <td>-37.414551</td>\n      <td>-16.540527</td>\n      <td>-0.001953</td>\n      <td>-0.652344</td>\n      <td>-0.215820</td>\n      <td>adl</td>\n      <td>D01_SA01_R01.txt</td>\n      <td>SA01</td>\n    </tr>\n    <tr>\n      <th>3</th>\n      <td>-0.039062</td>\n      <td>-0.703125</td>\n      <td>-0.300781</td>\n      <td>-6.347656</td>\n      <td>-39.489746</td>\n      <td>-13.854980</td>\n      <td>-0.033203</td>\n      <td>-0.680664</td>\n      <td>-0.170898</td>\n      <td>adl</td>\n      <td>D01_SA01_R01.txt</td>\n      <td>SA01</td>\n    </tr>\n    <tr>\n      <th>4</th>\n      <td>-0.082031</td>\n      <td>-0.746094</td>\n      <td>-0.246094</td>\n      <td>-7.812500</td>\n      <td>-41.198730</td>\n      <td>-11.657715</td>\n      <td>-0.072266</td>\n      <td>-0.723633</td>\n      <td>-0.129883</td>\n      <td>adl</td>\n      <td>D01_SA01_R01.txt</td>\n      <td>SA01</td>\n    </tr>\n  </tbody>\n</table>\n</div>"
     },
     "execution_count": 49,
     "metadata": {},
     "output_type": "execute_result"
    }
   ],
   "source": [
    "# Check the first few rows of the dataset\n",
    "sisfall_data.head()"
   ],
   "metadata": {
    "collapsed": false,
    "ExecuteTime": {
     "end_time": "2025-05-03T16:09:49.657704Z",
     "start_time": "2025-05-03T16:09:49.633625Z"
    }
   },
   "id": "3f22876a5bc6883f",
   "execution_count": 49
  },
  {
   "cell_type": "code",
   "outputs": [
    {
     "name": "stdout",
     "output_type": "stream",
     "text": [
      "Distribution of labels per file:\n",
      "label\n",
      "fall    899\n",
      "adl     451\n",
      "Name: count, dtype: int64\n",
      "fall: 899 files (66.59%)\n",
      "adl: 451 files (33.41%)\n"
     ]
    },
    {
     "data": {
      "text/plain": "<Figure size 800x500 with 1 Axes>",
      "image/png": "[encoded data removed]"
     },
     "metadata": {},
     "output_type": "display_data"
    }
   ],
   "source": [
    "# Check the distribution of labels per file\n",
    "file_label_counts = sisfall_data[['filename', 'label']].drop_duplicates()['label'].value_counts()\n",
    "\n",
    "# Print the distribution of labels per file\n",
    "print(\"Distribution of labels per file:\")\n",
    "print(file_label_counts)\n",
    "\n",
    "# Print the percentage of each label\n",
    "total_files = file_label_counts.sum()\n",
    "for label, count in file_label_counts.items():\n",
    "    percentage = (count / total_files) * 100\n",
    "    print(f\"{label}: {count} files ({percentage:.2f}%)\")\n",
    "\n",
    "plt.figure(figsize=(8, 5))\n",
    "sns.barplot(x=file_label_counts.index, y=file_label_counts.values)\n",
    "plt.title('Distribution of Labels per File in SisFall Dataset')\n",
    "plt.xlabel('Label')\n",
    "plt.ylabel('Number of Files')\n",
    "plt.xticks(rotation=45)\n",
    "plt.show()"
   ],
   "metadata": {
    "collapsed": false,
    "ExecuteTime": {
     "end_time": "2025-05-03T16:09:51.395299Z",
     "start_time": "2025-05-03T16:09:49.660738Z"
    }
   },
   "id": "887a560052697eea",
   "execution_count": 50
  },
  {
   "cell_type": "code",
   "outputs": [
    {
     "name": "stdout",
     "output_type": "stream",
     "text": [
      "Distribution of labels:\n",
      "label\n",
      "adl     3065713\n",
      "fall    2696866\n",
      "Name: count, dtype: int64\n",
      "adl: 3065713 samples (53.20%)\n",
      "fall: 2696866 samples (46.80%)\n"
     ]
    },
    {
     "data": {
      "text/plain": "<Figure size 800x500 with 1 Axes>",
      "image/png": "[encoded data removed]"
     },
     "metadata": {},
     "output_type": "display_data"
    }
   ],
   "source": [
    "# Check the distribution of labels\n",
    "label_counts = sisfall_data['label'].value_counts()\n",
    "\n",
    "# Print the distribution of labels\n",
    "print(\"Distribution of labels:\")\n",
    "print(label_counts)\n",
    "\n",
    "# Print the percentage of each label\n",
    "total_samples = label_counts.sum()\n",
    "for label, count in label_counts.items():\n",
    "    percentage = (count / total_samples) * 100\n",
    "    print(f\"{label}: {count} samples ({percentage:.2f}%)\")\n",
    "\n",
    "plt.figure(figsize=(8, 5))\n",
    "sns.barplot(x=label_counts.index, y=label_counts.values)\n",
    "plt.title('Distribution of Labels in SisFall Dataset')\n",
    "plt.xlabel('Label')\n",
    "plt.ylabel('Count')\n",
    "plt.xticks(rotation=45)\n",
    "plt.show()"
   ],
   "metadata": {
    "collapsed": false,
    "ExecuteTime": {
     "end_time": "2025-05-03T16:09:51.735210Z",
     "start_time": "2025-05-03T16:09:51.396310Z"
    }
   },
   "id": "a814b72cfb29451b",
   "execution_count": 51
  },
  {
   "cell_type": "code",
   "outputs": [],
   "source": [
    "# Save the dataset to a CSV file\n",
    "sisfall_data.to_csv('reduced_sisfall_dataset.csv', index=False)"
   ],
   "metadata": {
    "collapsed": false,
    "ExecuteTime": {
     "end_time": "2025-05-03T16:10:54.087634Z",
     "start_time": "2025-05-03T16:09:51.736217Z"
    }
   },
   "id": "4beddb728fcfb2d7",
   "execution_count": 52
  }
 ],
 "metadata": {
  "kernelspec": {
   "display_name": "Python 3",
   "language": "python",
   "name": "python3"
  },
  "language_info": {
   "codemirror_mode": {
    "name": "ipython",
    "version": 2
   },
   "file_extension": ".py",
   "mimetype": "text/x-python",
   "name": "python",
   "nbconvert_exporter": "python",
   "pygments_lexer": "ipython2",
   "version": "2.7.6"
  }
 },
 "nbformat": 4,
 "nbformat_minor": 5
}
